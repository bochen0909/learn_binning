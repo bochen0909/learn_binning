{
 "cells": [
  {
   "cell_type": "code",
   "execution_count": null,
   "id": "97c3956a",
   "metadata": {},
   "outputs": [],
   "source": []
  },
  {
   "cell_type": "code",
   "execution_count": 1,
   "id": "b4cb340d",
   "metadata": {},
   "outputs": [],
   "source": [
    "SIMG='~/let-it-bin.simg'"
   ]
  },
  {
   "cell_type": "code",
   "execution_count": 2,
   "id": "f59cacf5",
   "metadata": {},
   "outputs": [
    {
     "name": "stdout",
     "output_type": "stream",
     "text": [
      "/usr/local/bin/metabat2\r\n",
      "/usr/local/bin/jgi_summarize_bam_contig_depths\r\n"
     ]
    }
   ],
   "source": [
    "!singularity run $SIMG which metabat2 jgi_summarize_bam_contig_depths"
   ]
  },
  {
   "cell_type": "code",
   "execution_count": 24,
   "id": "36252cc1",
   "metadata": {},
   "outputs": [
    {
     "name": "stdout",
     "output_type": "stream",
     "text": [
      "/home/ec2-user/mydev/learn_binning\r\n"
     ]
    }
   ],
   "source": [
    "!singularity run  $SIMG pwd"
   ]
  },
  {
   "cell_type": "code",
   "execution_count": 3,
   "id": "06306faa",
   "metadata": {},
   "outputs": [],
   "source": [
    "import os\n",
    "os.chdir(\"data\")"
   ]
  },
  {
   "cell_type": "code",
   "execution_count": 4,
   "id": "31c1a9d5",
   "metadata": {},
   "outputs": [
    {
     "name": "stdout",
     "output_type": "stream",
     "text": [
      "    391202     391202 1171313088 assembly.fa\r\n"
     ]
    }
   ],
   "source": [
    "!wc  assembly.fa"
   ]
  },
  {
   "cell_type": "code",
   "execution_count": 5,
   "id": "ecf993e5",
   "metadata": {},
   "outputs": [
    {
     "name": "stdout",
     "output_type": "stream",
     "text": [
      ">gi|224815735|ref|NZ_ACGB01000001.1|_[Acidaminococcus_D21_uid55871]_1-5871\r\n",
      "TAAAGGTCATACTCCTTTTGTGATGCTTCCAAAACATGGTATGGTTCATGTTCCGCAAAGATATGGAGGTCACTGCCTTGGGCTGCAGGCGCCTCATAGC\r\n",
      ">gi|224815735|ref|NZ_ACGB01000001.1|_[Acidaminococcus_D21_uid55871]_5841-8340\r\n",
      "TCCTTTTTTATTACCAAGGTTAGGTTCTGTTTTTTGGGAGTGAAACCCCTTAAACGATTGCTGGCAGTATAATTTCAGGAGTATACTATGCCTGAGAGAC\r\n",
      ">gi|224815735|ref|NZ_ACGB01000001.1|_[Acidaminococcus_D21_uid55871]_8310-10809\r\n",
      "ATATAAGGTTAGACAAACAAATCGGAAGTTGTATGGAGGAGAAAAATATGAAACATCAGTGCAAAATAACGGTTTTGGAAACTAAGGTATTTCCGGATTT\r\n",
      ">gi|224815735|ref|NZ_ACGB01000001.1|_[Acidaminococcus_D21_uid55871]_10779-29944\r\n",
      "CATCCAAGATATCATCAAGGGATTTATAGGCCATAGGAGCTTCGTCGATGGTGCCTTCGTTTACCGATGTCGTATATATGCCTGCCATCTCCTGCTGGTA\r\n",
      ">gi|224815735|ref|NZ_ACGB01000001.1|_[Acidaminococcus_D21_uid55871]_29914-33073\r\n",
      "GTAGCCGAGATATCATCGGCAATGAAATTGCAGGTGACGGACAGGTCGGGAATAGTCCCGGCCGGAATAGAAAAGTCATTGATGGTCTGGCGGATGGCGT\r\n"
     ]
    }
   ],
   "source": [
    "! head assembly.fa | cut -c -100"
   ]
  },
  {
   "cell_type": "code",
   "execution_count": 6,
   "id": "1f246a32",
   "metadata": {},
   "outputs": [
    {
     "name": "stdout",
     "output_type": "stream",
     "text": [
      "   192141 102026871 482024783 depth.txt\r\n"
     ]
    }
   ],
   "source": [
    "!wc depth.txt"
   ]
  },
  {
   "cell_type": "code",
   "execution_count": 7,
   "id": "3fb0ad70",
   "metadata": {
    "scrolled": true
   },
   "outputs": [
    {
     "name": "stdout",
     "output_type": "stream",
     "text": [
      "contigName\tcontigLen\ttotalAvgDepth\tall_291-shred_2500_31_rand_94521.fa-ERR011087.fastq.fix.fastq.sam.bam\tall_291-shred_2500_31_rand_94521.fa-ERR011087.fastq.fix.fastq.sam.bam-var\tall_291-shred_2500_31\r\n",
      "gi|224815735|ref|NZ_ACGB01000001.1|_[Acidaminococcus_D21_uid55871]_1-5871\t5871\t97.1261\t0\t0\t0\t0\t0\t0\t0\t0\t0\t0\t0\t0\t0\t0\t0\t0\t0\t0\t0\t0\t0\t0\t0\t0\t0\t0\t0\t0\t0\t0\t0\t0\t0\t0\t0\t0\t0\t0\t0\t0\t0\t0\t0\t0\t0\t0\t0\t0\t0\t0\t0\t0\t0\t0\t0\t0\t0\r\n"
     ]
    }
   ],
   "source": [
    "!head -n 2 depth.txt | cut -c -200"
   ]
  },
  {
   "cell_type": "code",
   "execution_count": 9,
   "id": "d6c6c7eb",
   "metadata": {
    "scrolled": true
   },
   "outputs": [
    {
     "name": "stdout",
     "output_type": "stream",
     "text": [
      "MetaBAT 2 (v2.12.1) using minContig 2500, minCV 1.0, minCVSum 1.0, maxP 95%, minS 60, and maxEdges 200. \n",
      "[00:00:55] Finished reading 192140 contigs and 264 coverages from depth.txt\n",
      "[00:00:55] Number of target contigs: 136677 of large (>= 2500) and 1573 of small ones (>=1000 & <2500). \n",
      "[00:01:27] Finished TNF calculation.                                  \n",
      "[00:29:19] Finished Preparing TNF Graph Building [pTNF = 87.98]                                             \n",
      "[00:41:53] Finished Building TNF Graph (129617 vertices and 7721432 edges) [4.6Gb / 62.9Gb]                                          \n",
      "[00:42:37] Building SCR Graph and Binning (106895 vertices and 745707 edges) [P = 85.50%; 4.5Gb / 62.9Gb]                           \n",
      "[00:43:12] 3.77% (22125011 bases) of large (>=2500) contigs were re-binned out of small bins (<200000).\n",
      "[00:43:14] 72.70% (609465868 bases) of large (>=2500) and 8.73% (216597 bases) of small (<2500) contigs were binned.\n",
      "337 bins (609682465 bases in total) formed.\n",
      "CPU times: user 44.2 s, sys: 5.61 s, total: 49.8 s\n",
      "Wall time: 43min 14s\n"
     ]
    }
   ],
   "source": [
    "%%time\n",
    "#First, try sensitive mode to better sensitivity\n",
    "!singularity run $SIMG metabat2 -i assembly.fa -a depth.txt -o binv2 -v\n"
   ]
  },
  {
   "cell_type": "code",
   "execution_count": 22,
   "id": "905a8b9a",
   "metadata": {
    "scrolled": true
   },
   "outputs": [],
   "source": [
    "files = !ls binv2.*.fa\n",
    "for fname in files:\n",
    "    i=fname.split('.')[1]\n",
    "    !cat {fname} | grep \"^>\" | cut -c 2- > mb2bin.{i}\n",
    "    "
   ]
  },
  {
   "cell_type": "code",
   "execution_count": null,
   "id": "b3858523",
   "metadata": {},
   "outputs": [],
   "source": []
  },
  {
   "cell_type": "code",
   "execution_count": 23,
   "id": "b628d0bc",
   "metadata": {},
   "outputs": [
    {
     "name": "stdout",
     "output_type": "stream",
     "text": [
      "gi|479192860|ref|NC_021035.1|_[butyrate_producing_bacterium_SS3_4_uid197159]_2470-7887\r\n",
      "gi|479192860|ref|NC_021035.1|_[butyrate_producing_bacterium_SS3_4_uid197159]_7857-12714\r\n",
      "gi|479192860|ref|NC_021035.1|_[butyrate_producing_bacterium_SS3_4_uid197159]_12684-24482\r\n",
      "gi|479192860|ref|NC_021035.1|_[butyrate_producing_bacterium_SS3_4_uid197159]_26921-51761\r\n",
      "gi|479192860|ref|NC_021035.1|_[butyrate_producing_bacterium_SS3_4_uid197159]_51731-59230\r\n",
      "gi|479192860|ref|NC_021035.1|_[butyrate_producing_bacterium_SS3_4_uid197159]_64138-66637\r\n",
      "gi|479192860|ref|NC_021035.1|_[butyrate_producing_bacterium_SS3_4_uid197159]_138663-146595\r\n",
      "gi|479192860|ref|NC_021035.1|_[butyrate_producing_bacterium_SS3_4_uid197159]_146565-151899\r\n",
      "gi|479192860|ref|NC_021035.1|_[butyrate_producing_bacterium_SS3_4_uid197159]_151869-154368\r\n",
      "gi|479192860|ref|NC_021035.1|_[butyrate_producing_bacterium_SS3_4_uid197159]_154338-182536\r\n"
     ]
    }
   ],
   "source": [
    "!head mb2bin.1"
   ]
  },
  {
   "cell_type": "code",
   "execution_count": null,
   "id": "c50ee256",
   "metadata": {},
   "outputs": [],
   "source": []
  }
 ],
 "metadata": {
  "kernelspec": {
   "display_name": "Python 3",
   "language": "python",
   "name": "python3"
  },
  "language_info": {
   "codemirror_mode": {
    "name": "ipython",
    "version": 3
   },
   "file_extension": ".py",
   "mimetype": "text/x-python",
   "name": "python",
   "nbconvert_exporter": "python",
   "pygments_lexer": "ipython3",
   "version": "3.7.9"
  }
 },
 "nbformat": 4,
 "nbformat_minor": 5
}
