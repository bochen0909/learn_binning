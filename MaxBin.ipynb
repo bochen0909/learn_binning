{
 "cells": [
  {
   "cell_type": "markdown",
   "id": "0897d6f4",
   "metadata": {},
   "source": [
    "### "
   ]
  },
  {
   "cell_type": "code",
   "execution_count": null,
   "id": "2488d985",
   "metadata": {},
   "outputs": [],
   "source": [
    "SIMG='~/let-it-bin.simg'"
   ]
  },
  {
   "cell_type": "code",
   "execution_count": 2,
   "id": "f59cacf5",
   "metadata": {
    "scrolled": true
   },
   "outputs": [
    {
     "name": "stdout",
     "output_type": "stream",
     "text": [
      "/usr/local/bin/run_MaxBin.pl\r\n"
     ]
    }
   ],
   "source": [
    "!singularity run $SIMG which run_MaxBin.pl"
   ]
  },
  {
   "cell_type": "code",
   "execution_count": 3,
   "id": "116a1da5",
   "metadata": {},
   "outputs": [],
   "source": [
    "import os\n",
    "os.chdir(\"data\")"
   ]
  },
  {
   "cell_type": "code",
   "execution_count": 4,
   "id": "36252cc1",
   "metadata": {},
   "outputs": [
    {
     "name": "stdout",
     "output_type": "stream",
     "text": [
      "/home/ec2-user/mydev/learn_binning/data\r\n"
     ]
    }
   ],
   "source": [
    "!singularity run  $SIMG pwd"
   ]
  },
  {
   "cell_type": "code",
   "execution_count": 5,
   "id": "0b38ec54",
   "metadata": {},
   "outputs": [],
   "source": [
    "#!mkdir data && cd data && wget https://portal.nersc.gov/dna/RD/Metagenome_RD/MetaBAT/Files/assembly.fa.gz && gunzip assembly.fa.gz"
   ]
  },
  {
   "cell_type": "code",
   "execution_count": 6,
   "id": "31c1a9d5",
   "metadata": {},
   "outputs": [
    {
     "name": "stdout",
     "output_type": "stream",
     "text": [
      "    391202     391202 1171313088 assembly.fa\r\n"
     ]
    }
   ],
   "source": [
    "!wc assembly.fa"
   ]
  },
  {
   "cell_type": "code",
   "execution_count": 7,
   "id": "ecf993e5",
   "metadata": {},
   "outputs": [
    {
     "name": "stdout",
     "output_type": "stream",
     "text": [
      ">gi|224815735|ref|NZ_ACGB01000001.1|_[Acidaminococcus_D21_uid55871]_1-5871\r\n",
      "TAAAGGTCATACTCCTTTTGTGATGCTTCCAAAACATGGTATGGTTCATGTTCCGCAAAGATATGGAGGTCACTGCCTTGGGCTGCAGGCGCCTCATAGC\r\n",
      ">gi|224815735|ref|NZ_ACGB01000001.1|_[Acidaminococcus_D21_uid55871]_5841-8340\r\n",
      "TCCTTTTTTATTACCAAGGTTAGGTTCTGTTTTTTGGGAGTGAAACCCCTTAAACGATTGCTGGCAGTATAATTTCAGGAGTATACTATGCCTGAGAGAC\r\n",
      ">gi|224815735|ref|NZ_ACGB01000001.1|_[Acidaminococcus_D21_uid55871]_8310-10809\r\n",
      "ATATAAGGTTAGACAAACAAATCGGAAGTTGTATGGAGGAGAAAAATATGAAACATCAGTGCAAAATAACGGTTTTGGAAACTAAGGTATTTCCGGATTT\r\n",
      ">gi|224815735|ref|NZ_ACGB01000001.1|_[Acidaminococcus_D21_uid55871]_10779-29944\r\n",
      "CATCCAAGATATCATCAAGGGATTTATAGGCCATAGGAGCTTCGTCGATGGTGCCTTCGTTTACCGATGTCGTATATATGCCTGCCATCTCCTGCTGGTA\r\n",
      ">gi|224815735|ref|NZ_ACGB01000001.1|_[Acidaminococcus_D21_uid55871]_29914-33073\r\n",
      "GTAGCCGAGATATCATCGGCAATGAAATTGCAGGTGACGGACAGGTCGGGAATAGTCCCGGCCGGAATAGAAAAGTCATTGATGGTCTGGCGGATGGCGT\r\n"
     ]
    }
   ],
   "source": [
    "! head assembly.fa | cut -c -100"
   ]
  },
  {
   "cell_type": "code",
   "execution_count": 8,
   "id": "603ffc96",
   "metadata": {
    "scrolled": true
   },
   "outputs": [
    {
     "name": "stdout",
     "output_type": "stream",
     "text": [
      "--2021-06-10 11:46:20--  https://portal.nersc.gov/dna/RD/Metagenome_RD/MetaBAT/Files/depth_maxbin.txt.gz\n",
      "Resolving portal.nersc.gov (portal.nersc.gov)... 128.55.206.106, 128.55.206.107, 128.55.206.108, ...\n",
      "Connecting to portal.nersc.gov (portal.nersc.gov)|128.55.206.106|:443... connected.\n",
      "HTTP request sent, awaiting response... 200 OK\n",
      "Length: 2561503 (2.4M) [application/x-gzip]\n",
      "Saving to: ‘depth_maxbin.txt.gz’\n",
      "\n",
      "100%[======================================>] 2,561,503   5.13MB/s   in 0.5s   \n",
      "\n",
      "2021-06-10 11:46:21 (5.13 MB/s) - ‘depth_maxbin.txt.gz’ saved [2561503/2561503]\n",
      "\n"
     ]
    }
   ],
   "source": [
    "!wget https://portal.nersc.gov/dna/RD/Metagenome_RD/MetaBAT/Files/depth_maxbin.txt.gz && gunzip depth_maxbin.txt.gz"
   ]
  },
  {
   "cell_type": "code",
   "execution_count": 9,
   "id": "1f246a32",
   "metadata": {},
   "outputs": [
    {
     "name": "stdout",
     "output_type": "stream",
     "text": [
      "  195601   391202 18357611 depth_maxbin.txt\r\n"
     ]
    }
   ],
   "source": [
    "!wc depth_maxbin.txt"
   ]
  },
  {
   "cell_type": "code",
   "execution_count": 10,
   "id": "3fb0ad70",
   "metadata": {
    "scrolled": true
   },
   "outputs": [
    {
     "name": "stdout",
     "output_type": "stream",
     "text": [
      "gi|224815735|ref|NZ_ACGB01000001.1|_[Acidaminococcus_D21_uid55871]_1-5871\t95.6678\r\n",
      "gi|224815735|ref|NZ_ACGB01000001.1|_[Acidaminococcus_D21_uid55871]_5841-8340\t95.6703\r\n"
     ]
    }
   ],
   "source": [
    "!head -n 2 depth_maxbin.txt | cut -c -200"
   ]
  },
  {
   "cell_type": "code",
   "execution_count": 11,
   "id": "d6c6c7eb",
   "metadata": {},
   "outputs": [
    {
     "name": "stdout",
     "output_type": "stream",
     "text": [
      "perl: warning: Setting locale failed.\n",
      "perl: warning: Please check that your locale settings:\n",
      "\tLANGUAGE = (unset),\n",
      "\tLC_ALL = (unset),\n",
      "\tLANG = \"en_US.UTF-8\"\n",
      "    are supported and installed on your system.\n",
      "perl: warning: Falling back to the standard locale (\"C\").\n",
      "MaxBin 2.2.3\n",
      "Input contig: assembly.fa\n",
      "out header: MaxBin.out\n",
      "Located abundance file [depth_maxbin.txt]\n",
      "Thread: 16\n",
      "Searching against 107 marker genes to find starting seed contigs for [assembly.fa]...\n",
      "Running FragGeneScan....\n",
      "Running HMMER hmmsearch....\n",
      "Done data collection. Running MaxBin...\n",
      "Command: /usr/local/bin/src/MaxBin -fasta MaxBin.out.contig.tmp  -abund MaxBin.out.contig.tmp.abund1 -seed MaxBin.out.seed -out MaxBin.out -min_contig_length 1000 -thread 16\n",
      "Loaded 100000 sequences\n",
      "Minimum contig length set to 1000.\n",
      "Reading seed list...\n",
      "Looking for seeds in sequences.\n",
      "\tgi|224815757|ref|NZ_ACGB01000023.1|_[Acidaminococcus_D21_uid55871]_32046-36746 [126.381000]\n",
      "\tgi|284047386|ref|NC_013740.1|_[Acidaminococcus_fermentans_DSM_20731_uid43471]_49233-52703 [8.958940]\n",
      "\tgi|352683411|ref|NC_016077.1|_[Acidaminococcus_intestini_RyC_MR95_uid74445]_168198-185951 [7.110650]\n",
      "\tgi|396584302|ref|NZ_ALCA01000060.1|_[Actinomyces_ICM47_uid170984]_2470-6233 [1.181890]\n",
      "\tgi|550889302|ref|NC_022567.1|_[Adlercreutzia_equolifaciens_DSM_19450_uid223286]_17031-27666 [37.335900]\n",
      "\tgi|483960011|ref|NZ_CAEF01000044.1|_[Aeromicrobium_JC14_uid199535]_49564-57662 [0.005366]\n",
      "\tgi|483961198|ref|NZ_CAEF01000370.1|_[Aeromicrobium_JC14_uid199535]_1-14414 [8.683560]\n",
      "\tgi|187734516|ref|NC_010655.1|_[Akkermansia_muciniphila_ATCC_BAA_835_uid58985]_118377-147123 [242.770000]\n",
      "\tgi|408372416|ref|NZ_AMRJ01000001.1|_[Alcanivorax_hongdengensis_A_11_3_uid176602]_97988-100487 [0.000100]\n",
      "\tgi|484064211|ref|NZ_CAPH01000007.1|_[Alistipes_AP11_uid199714]_89472-97126 [54.130300]\n",
      "\tgi|334364533|ref|NZ_AENZ01000015.1|_[Alistipes_HGB5_uid67587]_1-20865 [240.950000]\n",
      "\tgi|484029956|ref|NZ_HE978648.1|_[Alistipes_JC50_uid199660]_640234-642733 [99.647900]\n",
      "\tgi|390945347|ref|NC_018011.1|_[Alistipes_finegoldii_DSM_17242_uid168180]_1215934-1227300 [27.438300]\n",
      "\tgi|354605452|ref|NZ_JH370372.1|_[Alistipes_indistinctus_YIT_12060_uid75115]_431035-435881 [29.168000]\n",
      "\tgi|484006637|ref|NZ_KB894541.1|_[Alistipes_onderdonkii_DSM_19147_uid199292]_9723-29867 [299.616000]\n",
      "\tgi|224021127|ref|NZ_DS499577.1|_[Alistipes_putredinis_DSM_17216_uid54803]_833863-840639 [1118.880000]\n",
      "\tgi|479185170|ref|NC_021030.1|_[Alistipes_shahii_WAL_8301_uid197175]_2547640-2553715 [213.882000]\n",
      "\tgi|224021184|ref|NZ_DS544193.1|_[Anaerotruncus_colihominis_DSM_17241_uid54807]_192138-202215 [3.623800]\n",
      "\tgi|484028903|ref|NZ_HE978577.1|_[Bacteroidales_bacterium_ph8_uid199652]_1281549-1300973 [146.761000]\n",
      "\tgi|298383455|ref|NZ_GG774702.1|_[Bacteroides_1_1_14_uid49709]_297328-313647 [215.095000]\n",
      "\tgi|336407414|ref|NZ_GL945091.1|_[Bacteroides_1_1_30_uid68191]_336829-339328 [269.169000]\n",
      "\tgi|384096973|ref|NZ_JH636028.1|_[Bacteroides_1_1_6_uid55577]_27299-29798 [92.901000]\n",
      "\tgi|301308924|ref|NZ_GG774981.1|_[Bacteroides_20_3_uid50765]_7408-30385 [358.432000]\n",
      "\tgi|265766566|ref|NZ_GG705212.1|_[Bacteroides_2_1_16_uid41707]_455824-458838 [159.985000]\n",
      "\tgi|262406220|ref|NZ_GG705174.1|_[Bacteroides_2_1_22_uid41621]_761546-768191 [19.485700]\n",
      "\tgi|262384755|ref|NZ_GG705155.1|_[Bacteroides_2_1_33B_uid41591]_139550-144526 [105.035000]\n",
      "\tgi|336412494|ref|NZ_GL945045.1|_[Bacteroides_2_1_56FAA_uid68193]_148412-159736 [39.908600]\n",
      "\tgi|224485449|ref|NZ_EQ973184.1|_[Bacteroides_2_1_7_uid55579]_107256-113529 [108.235000]\n",
      "\tgi|224485575|ref|NZ_EQ973361.1|_[Bacteroides_2_2_4_uid55581]_112746-118814 [84.167100]\n",
      "\tgi|298377627|ref|NZ_GG774766.1|_[Bacteroides_3_1_19_uid49705]_11665-28588 [18.996400]\n",
      "\tgi|299147672|ref|NZ_GG774954.1|_[Bacteroides_3_1_23_uid49963]_252775-255274 [141.084000]\n",
      "\tgi|265751645|ref|NZ_GG705228.1|_[Bacteroides_3_1_33FAA_uid41705]_525781-534802 [1512.100000]\n",
      "\tgi|319644665|ref|NZ_GL635659.1|_[Bacteroides_3_1_40A_uid62053]_23020-32891 [2210.020000]\n",
      "\tgi|384096968|ref|NZ_JH636043.1|_[Bacteroides_3_2_5_uid55583]_476432-505129 [19.452600]\n",
      "\tgi|319430549|ref|NZ_GL622503.1|_[Bacteroides_4_1_36_uid61871]_113469-123630 [2039.430000]\n",
      "\tgi|345651627|ref|NZ_JH114370.1|_[Bacteroides_4_3_47FAA_uid55585]_36459-63327 [138.861000]\n",
      "\tgi|224485390|ref|NZ_EQ973125.1|_[Bacteroides_9_1_42FAA_uid55587]_471062-484813 [140.145000]\n",
      "\tgi|270295698|ref|NZ_GG730107.1|_[Bacteroides_D20_uid42369]_272141-277374 [252.549000]\n",
      "\tgi|298483594|ref|NZ_GG774820.1|_[Bacteroides_D22_uid49721]_4939-23746 [44.665600]\n",
      "\tgi|384096960|ref|NZ_JH636020.1|_[Bacteroides_D2_uid55591]_354521-357020 [39.747300]\n",
      "\tgi|484008563|ref|NZ_KB894643.1|_[Bacteroides_barnesiae_DSM_18169_uid199296]_441664-448155 [98.271500]\n",
      "\tgi|134301164|ref|NZ_AAVM02000007.1|_[Bacteroides_caccae_ATCC_43185_uid54521]_90608-95054 [293.623000]\n",
      "\tgi|423220654|ref|NZ_JH724081.1|_[Bacteroides_caccae_CL03T12C61_uid181623]_199601-202100 [36.376100]\n",
      "\tgi|146386164|ref|NZ_AAXG02000015.1|_[Bacteroides_capillosus_ATCC_29799_uid54531]_11403-19078 [3.624370]\n",
      "\tgi|423226005|ref|NZ_JH724089.1|_[Bacteroides_cellulosilyticus_CL02T12C19_uid181624]_396947-425930 [436.341000]\n",
      "\tgi|224485635|ref|NZ_EQ973489.1|_[Bacteroides_cellulosilyticus_DSM_14838_uid55279]_334294-352389 [134.197000]\n",
      "\tgi|329959529|ref|NZ_GL882599.1|_[Bacteroides_clarus_YIT_12056_uid66155]_310451-328739 [87.587000]\n",
      "\tgi|223954461|ref|NZ_DS981457.1|_[Bacteroides_coprocola_DSM_17136_uid54879]_174818-193706 [515.142000]\n",
      "\tgi|224485798|ref|NZ_EQ973650.1|_[Bacteroides_coprophilus_DSM_18228_uid55301]_190265-196152 [124.417000]\n",
      "\tgi|345651599|ref|NZ_JH114320.1|_[Bacteroides_dorei_5_1_36_D4_uid55593]_490832-498282 [54.568100]\n",
      "\tgi|423228953|ref|NZ_JH724111.1|_[Bacteroides_dorei_CL02T00C15_uid181625]_345935-368739 [32.203500]\n",
      "\tgi|423239798|ref|NZ_JH724154.1|_[Bacteroides_dorei_CL03T12C01_uid181626]_359408-361907 [0.466860]\n",
      "\tgi|223956329|ref|NZ_DS995531.1|_[Bacteroides_dorei_DSM_17855_uid54993]_317225-334763 [15.268600]\n",
      "\tgi|482849901|ref|NZ_AKBX01000005.1|_[Bacteroides_eggerthii_1_2_48FAA_uid61869]_165481-182915 [464.218000]\n",
      "\tgi|319430447|ref|NZ_GL622541.1|_[Bacteroides_eggerthii_1_2_48FAA_uid61869]_321126-333076 [20.602500]\n",
      "\tgi|223956306|ref|NZ_DS995508.1|_[Bacteroides_eggerthii_DSM_20697_uid54989]_187320-192314 [60.639000]\n",
      "\tgi|378760324|ref|NZ_AGDG01000046.1|_[Bacteroides_faecis_MAJ27_uid86875]_56063-72085 [51.185200]\n",
      "\tgi|482850006|ref|NZ_AKBZ01000006.1|_[Bacteroides_finegoldii_CL09T03C10_uid181638]_293918-314570 [33.117500]\n",
      "\tgi|423302488|ref|NZ_JH951904.1|_[Bacteroides_finegoldii_CL09T03C10_uid181638]_304170-309662 [0.000100]\n",
      "\tgi|242353475|ref|NZ_GG688321.1|_[Bacteroides_finegoldii_DSM_17565_uid54985]_298922-307259 [55.897000]\n",
      "\tgi|329965940|ref|NZ_GL882606.1|_[Bacteroides_fluxus_YIT_12057_uid66157]_55666-63588 [3.810260]\n",
      "\tgi|224485481|ref|NZ_EQ973216.1|_[Bacteroides_fragilis_3_1_12_uid55575]_377299-387753 [9.769990]\n",
      "\tgi|375356399|ref|NC_016776.1|_[Bacteroides_fragilis_638R_uid84217]_4355830-4362081 [9.286570]\n",
      "\tgi|423251202|ref|NZ_JH724175.1|_[Bacteroides_fragilis_CL03T00C08_uid181628]_583328-585827 [8.301990]\n",
      "\tgi|482849965|ref|NZ_AKBY01000004.1|_[Bacteroides_fragilis_CL05T00C42_uid181632]_136397-143505 [1.085290]\n",
      "\tgi|423270144|ref|NZ_JH724189.1|_[Bacteroides_fragilis_CL05T00C42_uid181632]_109251-113458 [1.064290]\n",
      "\tgi|423260101|ref|NZ_JH724207.1|_[Bacteroides_fragilis_CL07T00C01_uid181630]_505367-513342 [3.731560]\n",
      "\tgi|423276869|ref|NZ_JH815482.1|_[Bacteroides_fragilis_HMW_610_uid181634]_2297790-2300289 [10.866600]\n",
      "\tgi|423285267|ref|NZ_JH815494.1|_[Bacteroides_fragilis_HMW_615_uid181635]_335168-338431 [3.337320]\n",
      "\tgi|424664125|ref|NZ_JH815525.1|_[Bacteroides_fragilis_HMW_616_uid181809]_971450-992453 [1.952910]\n",
      "\tgi|60679597|ref|NC_003228.3|_[Bacteroides_fragilis_NCTC_9343_uid57639]_4286632-4289131 [0.154515]\n",
      "\tgi|53711291|ref|NC_006347.1|_[Bacteroides_fragilis_YCH46_uid58195]_4387666-4408169 [2.875310]\n",
      "\tgi|484001741|ref|NZ_KB894152.1|_[Bacteroides_gallinarum_DSM_18171_uid199285]_24742-39652 [0.631231]\n",
      "\tgi|172085030|ref|NZ_ABJL02000002.1|_[Bacteroides_intestinalis_DSM_17393_uid54881]_123135-125634 [183.637000]\n",
      "\tgi|483873507|ref|NZ_KB890342.1|_[Bacteroides_massiliensis_B84634___DSM_17679_uid199226]_69031-71530 [466.468000]\n",
      "\tgi|397319974|ref|NZ_JH724316.1|_[Bacteroides_nordii_CL02T12C05_uid170043]_72930-91516 [19.366100]\n"
     ]
    },
    {
     "name": "stdout",
     "output_type": "stream",
     "text": [
      "\tgi|427385439|ref|NZ_JH992942.1|_[Bacteroides_oleiciplenus_YIT_12058_uid182882]_426689-429188 [11.792500]\n",
      "\tgi|336417680|ref|NZ_GL945026.1|_[Bacteroides_ovatus_3_8_47FAA_uid68195]_220075-222574 [32.700100]\n",
      "\tgi|223667760|ref|NZ_DS264580.1|_[Bacteroides_ovatus_ATCC_8483_uid54543]_270504-274193 [31.006400]\n",
      "\tgi|423289147|ref|NZ_JH724227.1|_[Bacteroides_ovatus_CL02T12C04_uid181636]_1181548-1190463 [6.429330]\n",
      "\tgi|423296664|ref|NZ_JH724243.1|_[Bacteroides_ovatus_CL03T12C18_uid181637]_375473-384106 [10.851400]\n",
      "\tgi|293368748|ref|NZ_ADMO01000005.1|_[Bacteroides_ovatus_SD_CMC_3f_uid46973]_113417-136751 [18.900300]\n",
      "\tgi|223956448|ref|NZ_DS996921.1|_[Bacteroides_pectinophilus_ATCC_43243_uid54987]_945935-982174 [57.658100]\n",
      "\tgi|223955901|ref|NZ_DS990133.1|_[Bacteroides_plebeius_DSM_17135_uid54991]_323815-327085 [527.408000]\n",
      "\tgi|325297172|ref|NC_015164.1|_[Bacteroides_salanitronis_DSM_18170_uid63269]_1156670-1161981 [10.845400]\n",
      "\tgi|397320021|ref|NZ_JH724310.1|_[Bacteroides_salyersiae_CL02T12C01_uid170041]_58962-79896 [84.401400]\n",
      "\tgi|223955875|ref|NZ_DS499676.1|_[Bacteroides_stercoris_ATCC_43183_uid54825]_492326-494825 [379.411000]\n",
      "\tgi|29345410|ref|NC_004663.1|_[Bacteroides_thetaiotaomicron_VPI_5482_uid62913]_2720832-2742357 [5.703030]\n",
      "\tgi|223667797|ref|NZ_DS362247.1|_[Bacteroides_uniformis_ATCC_8492_uid54547]_369964-377845 [100.850000]\n",
      "\tgi|423303061|ref|NZ_JH724260.1|_[Bacteroides_uniformis_CL03T00C23_uid181639]_854131-875202 [146.144000]\n",
      "\tgi|423307260|ref|NZ_JH724268.1|_[Bacteroides_uniformis_CL03T12C37_uid181640]_255849-267093 [13.106300]\n",
      "\tgi|150002608|ref|NC_009614.1|_[Bacteroides_vulgatus_ATCC_8482_uid58253]_14579-17404 [131.961000]\n",
      "\tgi|423313760|ref|NZ_JH724284.1|_[Bacteroides_vulgatus_CL09T03C04_uid181641]_164596-172256 [21.441300]\n",
      "\tgi|294776092|ref|NZ_ADKO01000039.1|_[Bacteroides_vulgatus_PC510_uid47771]_4967-11444 [0.327128]\n",
      "\tgi|423215241|ref|NZ_JH724296.1|_[Bacteroides_xylanisolvens_CL03T12C04_uid181622]_321493-325483 [18.841500]\n",
      "\tgi|479162165|ref|NC_021017.1|_[Bacteroides_xylanisolvens_XB1A_uid197168]_1288241-1295731 [1.208370]\n",
      "\tgi|405322024|ref|NZ_JH815204.1|_[Barnesiella_intestinihominis_YIT_11860_uid175259]_472276-476442 [445.798000]\n",
      "\tgi|319434495|ref|NZ_GL622634.1|_[Bifidobacterium_12_1_47BFAA_uid61873]_73092-77338 [124.524000]\n",
      "\tgi|119025018|ref|NC_008618.1|_[Bifidobacterium_adolescentis_ATCC_15703_uid58559]_1858911-1871989 [139.847000]\n",
      "\tgi|223667638|ref|NZ_DS264458.1|_[Bifidobacterium_adolescentis_L2_32_uid54549]_133059-176700 [78.892900]\n",
      "\tgi|390935917|ref|NC_017999.1|_[Bifidobacterium_bifidum_BGN4_uid167988]_303560-320445 [13.569900]\n",
      "\tgi|421736045|ref|NZ_AMPM01000093.1|_[Bifidobacterium_bifidum_IPLA_20015_uid180937]_11766-15207 [6.423720]\n",
      "\tgi|209953686|ref|NZ_ABXY01000006.1|_[Bifidobacterium_catenulatum_DSM_16992_uid55369]_1-3657 [23.810700]\n",
      "\tgi|419848726|ref|NZ_AJTF01000163.1|_[Bifidobacterium_longum_1_6B_uid180435]_2470-4969 [20.297800]\n",
      "\tgi|419852637|ref|NZ_AJTJ01000075.1|_[Bifidobacterium_longum_2_2B_uid180437]_1-4387 [7.452220]\n",
      "\tgi|312132275|ref|NC_014656.1|_[Bifidobacterium_longum_BBMN68_uid60163]_1361020-1363519 [4.731150]\n",
      "\tgi|237754070|ref|NZ_GG666856.1|_[Bifidobacterium_longum_infantis_ATCC_55813_uid55465]_137067-151753 [3.226080]\n",
      "\tgi|222444357|ref|NZ_ABXX02000005.1|_[Bifidobacterium_pseudocatenulatum_DSM_20438_uid55303]_35810-38309 [25.358300]\n",
      "\tgi|346306058|ref|NZ_JH114231.1|_[Bilophila_4_1_30_uid72973]_1319201-1329420 [34.591300]\n",
      "\tgi|319434550|ref|NZ_GL622727.1|_[Bilophila_wadsworthia_3_1_6_uid61875]_154723-157222 [70.568400]\n",
      "\tgi|256402711|ref|NZ_GG698588.1|_[Blautia_hansenii_DSM_20583_uid55275]_271199-282412 [11.111800]\n",
      "\tgi|224486137|ref|NZ_GG657685.1|_[Blautia_hydrogenotrophica_DSM_10507_uid54939]_442381-451606 [2.295400]\n",
      "\tgi|241911868|ref|NZ_ACCL02000033.1|_[Bryantella_formatexigens_DSM_14469_uid54943]_8158-21014 [0.097330]\n",
      "\tgi|303257489|ref|NZ_GL383997.1|_[Burkholderiales_bacterium_1_1_47_uid51545]_161759-177374 [87.483000]\n",
      "\tgi|226597587|ref|NZ_GG663521.1|_[Butyrivibrio_crossotus_DSM_2876_uid55091]_162459-172242 [1133.880000]\n",
      "\tgi|218292550|ref|NZ_ACCK01000079.1|_[Catenibacterium_mitsuokai_DSM_15897_uid54829]_14018-27824 [65.582500]\n",
      "\tgi|223955956|ref|NZ_DS990262.1|_[Clostridiales_bacterium_1_7_47FAA_uid55287]_778124-781215 [8.906520]\n",
      "\tgi|405332359|ref|NZ_JH815185.1|_[Clostridiales_bacterium_OBRC5_5_uid175258]_2663505-2680149 [0.024760]\n",
      "\tgi|325261037|ref|NZ_GL870809.1|_[Clostridium_D5_uid63427]_104071-106570 [0.875311]\n",
      "\tgi|313900261|ref|NZ_AENW01000052.1|_[Clostridium_HGF2_uid61051]_58061-71526 [8.412110]\n",
      "\tgi|223667807|ref|NZ_DS480318.1|_[Clostridium_L2_50_uid54559]_1-2500 [226.597000]\n",
      "\tgi|224515042|ref|NZ_DS547015.1|_[Clostridium_SS2_1_uid54553]_22242-36916 [311.882000]\n",
      "\tgi|339441064|ref|NC_015737.1|_[Clostridium_SY8519_uid68705]_1238768-1242558 [0.000100]\n",
      "\tgi|224486039|ref|NZ_GG657587.1|_[Clostridium_asparagiforme_DSM_15981_uid55115]_409077-441196 [2.516760]\n",
      "\tgi|224104210|ref|NZ_DS499554.1|_[Clostridium_bartlettii_DSM_16795_uid54809]_21779-46997 [14.802900]\n",
      "\tgi|224514740|ref|NZ_DS480694.1|_[Clostridium_bolteae_ATCC_BAA_613_uid54523]_55484-73493 [37.457200]\n",
      "\tgi|479336697|ref|NC_021047.1|_[Clostridium_cf_saccharolyticum_K10_uid197201]_965371-977881 [2.854330]\n",
      "\tgi|355687109|ref|NZ_JH376421.1|_[Clostridium_citroniae_WAL_17108_uid76581]_53853-70343 [9.992810]\n",
      "\tgi|357057335|ref|NZ_JH376871.1|_[Clostridium_clostridioforme_2_1_49FAA_uid76955]_295939-322477 [10.369800]\n",
      "\tgi|224514672|ref|NZ_CM000604.1|_[Clostridium_difficile_ATCC_43255_uid67589]_4082664-4103741 [0.082603]\n",
      "\tgi|296531661|ref|NZ_GG770714.1|_[Clostridium_difficile_NAP08_uid49121]_9984-30513 [0.000100]\n",
      "\tgi|224514674|ref|NZ_CM000637.1|_[Clostridium_difficile_QCD_63q42_uid54949]_4090231-4104034 [0.005394]\n",
      "\tgi|260685375|ref|NC_013316.1|_[Clostridium_difficile_R20291_uid40921]_4172907-4182161 [0.000100]\n",
      "\tgi|237642720|ref|NZ_GG667617.1|_[Clostridium_hathewayi_DSM_13479_uid55373]_32354-43390 [13.672400]\n",
      "\tgi|224223430|ref|NZ_DS480342.1|_[Clostridium_leptum_DSM_753_uid54605]_60101-68567 [28.461900]\n",
      "\tgi|224515374|ref|NZ_EQ973338.1|_[Clostridium_methylpentosum_DSM_5476_uid55281]_38487-48601 [0.181873]\n",
      "\tgi|414353770|ref|NZ_DS995343.4|_[Clostridium_nexile_DSM_1787_uid55077]_238311-246712 [10.349100]\n",
      "\tgi|224514946|ref|NZ_DS499654.1|_[Clostridium_ramosum_DSM_1402_uid54811]_486576-500757 [11.095700]\n",
      "\tgi|302384444|ref|NC_014376.1|_[Clostridium_saccharolyticum_WM1_uid51419]_240098-252172 [0.034365]\n",
      "\tgi|224515068|ref|NZ_DS562854.1|_[Clostridium_spiroforme_DSM_1552_uid54607]_394092-404893 [5.382610]\n",
      "\tgi|324035926|ref|NZ_GL834370.1|_[Clostridium_symbiosum_WAL_14673_uid63157]_3484-27290 [4.630240]\n",
      "\tgi|139439345|ref|NZ_AAVN02000008.1|_[Collinsella_aerofaciens_ATCC_25986_uid54525]_110432-112931 [156.420000]\n",
      "\tgi|320099553|ref|NZ_GL636585.1|_[Coprobacillus_29_1_uid62161]_5934-9558 [6.946600]\n",
      "\tgi|374627927|ref|NZ_JH599902.1|_[Coprobacillus_8_2_54BFAA_uid82733]_1191941-1194440 [0.804474]\n",
      "\tgi|479166807|ref|NC_021018.1|_[Coprococcus_ART55_1_uid197176]_324612-336716 [336.122000]\n",
      "\tgi|479136967|ref|NC_021009.1|_[Coprococcus_catus_GD_7_uid197174]_1517622-1545332 [33.225300]\n",
      "\tgi|225594898|ref|NZ_GG662006.1|_[Coprococcus_comes_ATCC_27758_uid54883]_182663-213162 [309.414000]\n",
      "\tgi|224514849|ref|NZ_DS483523.1|_[Coprococcus_eutactus_ATCC_27759_uid54541]_205661-213909 [72.312400]\n",
      "\tgi|256402719|ref|NZ_GG698602.1|_[Dialister_invisus_DSM_15470_uid55761]_471172-482238 [749.560000]\n",
      "\tgi|373456205|ref|NZ_JH591188.1|_[Dialister_succinatiphilus_YIT_11850_uid81763]_580757-590742 [57.506900]\n",
      "\tgi|346681633|ref|NZ_JH126501.1|_[Dorea_formicigenerans_4_6_53AFAA_uid73033]_63664-66525 [59.028800]\n",
      "\tgi|163816868|ref|NZ_AAXA02000007.1|_[Dorea_formicigenerans_ATCC_27755_uid54513]_37383-41437 [35.351500]\n",
      "\tgi|223667584|ref|NZ_DS264404.1|_[Dorea_longicatena_DSM_13814_uid54515]_3133-11426 [88.330900]\n",
      "\tgi|319430417|ref|NZ_GL622580.1|_[Eggerthella_1_3_56FAA_uid61877]_486817-493421 [9.681700]\n",
      "\tgi|242359900|ref|NZ_GG692538.1|_[Enterococcus_faecium_1_230_933_uid55701]_18719-29369 [0.229626]\n",
      "\tgi|529232713|ref|NC_021994.1|_[Enterococcus_faecium_Aus0085_uid214432]_5591-12850 [0.051993]\n",
      "\tgi|346681186|ref|NZ_JH126437.1|_[Erysipelotrichaceae_bacterium_2_2_44A_uid73037]_59916-68820 [2.896810]\n",
      "\tgi|309778566|ref|NZ_GL520139.1|_[Erysipelotrichaceae_bacterium_3_1_53_uid59459]_110125-125649 [0.744090]\n"
     ]
    },
    {
     "name": "stdout",
     "output_type": "stream",
     "text": [
      "\tgi|293399717|ref|NZ_GG749077.1|_[Erysipelotrichaceae_bacterium_5_2_54FAA_uid46995]_605011-622575 [3.823900]\n",
      "\tgi|422328245|ref|NZ_JH590970.1|_[Erysipelotrichaceae_bacterium_6_1_45_uid181401]_522249-529244 [12.738500]\n",
      "\tgi|406351866|ref|NZ_JH815253.1|_[Escherichia_1_1_43_uid55599]_216713-219212 [195.612000]\n",
      "\tgi|223958586|ref|NZ_DS999463.1|_[Escherichia_3_2_53FAA_uid55601]_293007-300247 [63.746200]\n",
      "\tgi|387175329|ref|NZ_JH660539.1|_[Escherichia_4_1_40B_uid55603]_270555-279712 [22.776100]\n",
      "\tgi|387605479|ref|NC_017626.1|_[Escherichia_coli_042_uid161985]_5006564-5029831 [18.828100]\n",
      "\tgi|425303019|ref|NZ_JH964483.1|_[Escherichia_coli_07798_uid181911]_129307-156563 [19.772800]\n",
      "\tgi|425425185|ref|NZ_JH943438.1|_[Escherichia_coli_0_1288_uid181931]_57145-75037 [16.930400]\n",
      "\tgi|312965775|ref|NZ_ADUL01000057.1|_[Escherichia_coli_2362_75_uid60613]_92639-110799 [4.859030]\n",
      "\tgi|417664257|ref|NZ_AFET01000003.1|_[Escherichia_coli_AA86_uid179782]_700199-709886 [37.214200]\n",
      "\tgi|556550243|ref|NC_022648.1|_[Escherichia_coli_JJ1886_uid226103]_4818073-4827155 [32.149900]\n",
      "\tgi|433113488|ref|NZ_ANYF01000049.1|_[Escherichia_coli_KTE150_uid184560]_32061-35460 [14.795400]\n",
      "\tgi|482850065|ref|NZ_AKCD01000004.1|_[Eubacterium_3_1_31_uid81761]_170518-174401 [1.219060]\n",
      "\tgi|482850067|ref|NZ_AKCD01000005.1|_[Eubacterium_3_1_31_uid81761]_290381-295947 [0.186645]\n",
      "\tgi|373453949|ref|NZ_JH594449.1|_[Eubacterium_3_1_31_uid81761]_181300-195621 [0.000100]\n",
      "\tgi|224515312|ref|NZ_DS996841.1|_[Eubacterium_biforme_DSM_3989_uid55117]_610391-631019 [77.055900]\n",
      "\tgi|479169109|ref|NC_021019.1|_[Eubacterium_cylindroides_T2_87_uid197177]_1067379-1074771 [5.978650]\n",
      "\tgi|224514807|ref|NZ_DS483478.1|_[Eubacterium_dolichum_DSM_3991_uid54609]_51222-81197 [1.627530]\n",
      "\tgi|238915976|ref|NC_012778.1|_[Eubacterium_eligens_ATCC_27750_uid59171]_2019326-2022551 [467.905000]\n",
      "\tgi|444384110|ref|NZ_KB290648.1|_[Eubacterium_hadrum_DSM_3319_uid183778]_35327-37826 [41.457300]\n",
      "\tgi|223045073|ref|NZ_ACEP01000025.1|_[Eubacterium_hallii_DSM_3353_uid54535]_9017-20260 [166.879000]\n",
      "\tgi|479140210|ref|NC_021010.1|_[Eubacterium_rectale_uid197161]_549070-555477 [415.961000]\n",
      "\tgi|479213596|ref|NC_021044.1|_[Eubacterium_rectale_uid197162]_1439282-1451322 [232.238000]\n",
      "\tgi|224514888|ref|NZ_DS499516.1|_[Eubacterium_siraeum_DSM_15702_uid54603]_318299-320798 [325.317000]\n",
      "\tgi|479210985|ref|NC_021043.1|_[Eubacterium_siraeum_V10Sc8a_uid197178]_2034258-2046323 [128.646000]\n",
      "\tgi|479143419|ref|NC_021011.1|_[Eubacterium_siraeum_uid197160]_1243814-1246409 [139.924000]\n",
      "\tgi|313116143|ref|NZ_GL538257.1|_[Faecalibacterium_cf__prausnitzii_KLE1255_uid60645]_11224-24465 [530.453000]\n",
      "\tgi|254692774|ref|NZ_GG697152.2|_[Faecalibacterium_prausnitzii_A2_165_uid54551]_3637-6136 [410.189000]\n",
      "\tgi|479208076|ref|NC_021042.1|_[Faecalibacterium_prausnitzii_L2_6_uid197183]_476243-482763 [228.598000]\n",
      "\tgi|224514840|ref|NZ_DS483500.1|_[Faecalibacterium_prausnitzii_M21_2_uid54555]_227055-238466 [315.924000]\n",
      "\tgi|479170689|ref|NC_021020.1|_[Faecalibacterium_prausnitzii_uid197157]_2426397-2449344 [75.930800]\n",
      "\tgi|365845889|ref|NZ_JH417740.1|_[Flavonifractor_plautii_ATCC_29863_uid80691]_1-11518 [25.886700]\n",
      "\tgi|224581381|ref|NZ_GG658181.1|_[Fusobacterium_gonidiaformans_ATCC_25563_uid55569]_61567-100098 [8.938880]\n",
      "\tgi|343177617|ref|NZ_GL987993.1|_[Fusobacterium_mortiferum_ATCC_9817_uid55571]_5440-31544 [50.289600]\n",
      "\tgi|479173639|ref|NC_021021.1|_[Gordonibacter_pamelaeae_7_10_1_b_uid197167]_1255533-1289506 [7.499680]\n",
      "\tgi|325579880|ref|NZ_GL872339.1|_[Haemophilus_parainfluenzae_ATCC_33392_uid63561]_2015566-2031453 [23.415000]\n",
      "\tgi|419845648|ref|NZ_AJTC01000031.1|_[Haemophilus_parainfluenzae_HK2019_uid180434]_30332-33370 [20.470700]\n",
      "\tgi|345428590|ref|NC_015964.1|_[Haemophilus_parainfluenzae_T3T1_uid72801]_934699-937198 [7.329740]\n",
      "\tgi|224581027|ref|NZ_GG657552.1|_[Holdemania_filiformis_DSM_12042_uid55297]_127968-134104 [11.867000]\n",
      "\tgi|358069018|ref|NZ_JH378829.1|_[Johnsonella_ignava_ATCC_51276_uid77897]_546152-560346 [0.000100]\n",
      "\tgi|365149736|ref|NZ_JH414804.1|_[Klebsiella_4_1_44FAA_uid80417]_99094-105221 [27.274600]\n",
      "\tgi|336440820|ref|NZ_GL945304.1|_[Lachnospiraceae_bacterium_1_1_57FAA_uid68209]_51946-54445 [99.200900]\n",
      "\tgi|336437931|ref|NZ_GL945164.1|_[Lachnospiraceae_bacterium_1_4_56FAA_uid68205]_353678-356177 [1.493370]\n",
      "\tgi|336434653|ref|NZ_GL945334.1|_[Lachnospiraceae_bacterium_2_1_58FAA_uid68203]_90216-116759 [104.879000]\n",
      "\tgi|331640227|ref|NZ_GL890521.1|_[Lachnospiraceae_bacterium_3_1_46FAA_uid66427]_605781-631139 [28.538200]\n",
      "\tgi|336430980|ref|NZ_GL945196.1|_[Lachnospiraceae_bacterium_3_1_57FAA_CT1_uid68201]_1103318-1107059 [6.437090]\n",
      "\tgi|326205064|ref|NZ_GL872350.1|_[Lachnospiraceae_bacterium_4_1_37FAA_uid63581]_399201-403012 [8.863390]\n",
      "\tgi|319430521|ref|NZ_GL622424.1|_[Lachnospiraceae_bacterium_5_1_63FAA_uid61883]_3793-6292 [26.189300]\n",
      "\tgi|373121109|ref|NZ_JH590874.1|_[Lachnospiraceae_bacterium_7_1_58FAA_uid81607]_1-6015 [16.557600]\n",
      "\tgi|331640216|ref|NZ_GL890573.1|_[Lachnospiraceae_bacterium_9_1_43BFAA_uid66425]_353987-372755 [10.563100]\n",
      "\tgi|325955721|ref|NC_015214.1|_[Lactobacillus_acidophilus_30SC_uid63605]_2470-12080 [66.589500]\n",
      "\tgi|385816611|ref|NC_017470.1|_[Lactobacillus_amylovorus_GRL1118_uid160233]_3592-11331 [5.998820]\n",
      "\tgi|385824947|ref|NC_017477.1|_[Lactobacillus_johnsonii_DPC_6026_uid162057]_9229-16316 [32.251200]\n",
      "\tgi|148543243|ref|NC_009513.1|_[Lactobacillus_reuteri_DSM_20016_uid58471]_4391-15448 [25.373700]\n",
      "\tgi|484345216|ref|NZ_JH724994.1|_[Lactobacillus_rossiae_DSM_15814_uid199472]_13911-16410 [0.000100]\n",
      "\tgi|417973364|ref|NZ_AFYE01000049.1|_[Lactobacillus_ruminis_ATCC_25644_uid179878]_75089-80193 [13.111800]\n",
      "\tgi|335997600|ref|NZ_AFOJ01000006.1|_[Lactobacillus_ruminis_SPM0211_uid67955]_261119-266668 [6.605420]\n",
      "\tgi|482747434|ref|NZ_HE998568.1|_[Lactococcus_raffinolactis_4877_uid178066]_278039-288110 [4.197980]\n",
      "\tgi|375087560|ref|NZ_JH601091.1|_[Megamonas_funiformis_YIT_11815_uid82999]_83740-96154 [24.955000]\n",
      "\tgi|479205603|ref|NC_021041.1|_[Megamonas_hypermegale_uid197163]_460841-484365 [26.448200]\n",
      "\tgi|348025247|ref|NC_015873.1|_[Megasphaera_elsdenii_DSM_20460_uid71135]_656039-670499 [21.498400]\n",
      "\tgi|254692764|ref|NZ_GG697142.2|_[Mitsuokella_multacida_DSM_20544_uid55073]_1-9895 [34.772500]\n",
      "\tgi|325278757|ref|NC_015160.1|_[Odoribacter_splanchnicus_DSM_20712_uid63397]_844666-852930 [284.016000]\n",
      "\tgi|483441487|ref|NZ_DF158900.1|_[Oscillibacter_ruminantium_GH1_uid199475]_150304-152803 [0.145402]\n",
      "\tgi|256842181|ref|NZ_GG698744.1|_[Parabacteroides_D13_uid55997]_14014-16796 [31.505700]\n",
      "\tgi|150006674|ref|NC_009615.1|_[Parabacteroides_distasonis_ATCC_8503_uid58301]_4804491-4811379 [13.054400]\n",
      "\tgi|423330203|ref|NZ_JH976495.1|_[Parabacteroides_distasonis_CL03T12C09_uid181647]_727162-738048 [11.458800]\n",
      "\tgi|410101286|ref|NZ_JH976472.1|_[Parabacteroides_goldsteinii_CL02T12C30_uid178274]_1126839-1140200 [16.984800]\n",
      "\tgi|423340855|ref|NZ_JH976465.1|_[Parabacteroides_johnsonii_CL02T12C29_uid181649]_616886-624517 [29.573400]\n",
      "\tgi|224580309|ref|NZ_DS996456.1|_[Parabacteroides_johnsonii_DSM_18315_uid55269]_404590-411518 [34.834700]\n",
      "\tgi|223667707|ref|NZ_DS264527.1|_[Parabacteroides_merdae_ATCC_43184_uid54545]_48480-63418 [306.588000]\n",
      "\tgi|423348402|ref|NZ_JH976458.1|_[Parabacteroides_merdae_CL03T12C32_uid181650]_50826-61586 [61.528400]\n",
      "\tgi|423724126|ref|NZ_JH976527.1|_[Parabacteroides_merdae_CL09T00C40_uid181721]_48570-63491 [3.611550]\n",
      "\tgi|357048625|ref|NZ_JH376604.1|_[Paraprevotella_clara_YIT_11840_uid76949]_70575-73074 [277.482000]\n",
      "\tgi|330998592|ref|NZ_GL883827.1|_[Paraprevotella_xylaniphila_YIT_11841_uid66381]_32493-39244 [107.877000]\n",
      "\tgi|331001590|ref|NZ_GL883742.1|_[Parasutterella_excrementihominis_YIT_11859_uid66383]_4027-11120 [7.839750]\n",
      "\tgi|323142627|ref|NZ_GL830884.1|_[Phascolarctobacterium_YIT_12067_uid62745]_65648-69778 [211.371000]\n",
      "\tgi|484208491|ref|NZ_AQVC01000011.1|_[Porphyromonas_somerae_DSM_23386_uid199036]_41141-44037 [4.681960]\n",
      "\tgi|424899366|ref|NZ_JH660660.1|_[Prevotella_bivia_DSM_20514_uid182041]_18574-26961 [3.699470]\n",
      "\tgi|260447130|ref|NZ_GG703853.1|_[Prevotella_copri_DSM_18205_uid55277]_364002-376283 [4263.390000]\n",
      "\tgi|303235561|ref|NZ_AEDO01000009.1|_[Prevotella_disiens_FB035_09AN_uid51531]_114514-123342 [0.696672]\n",
      "\tgi|359407266|ref|NZ_JH379406.1|_[Prevotella_stercorea_DSM_18206_uid78321]_1-15486 [108.333000]\n"
     ]
    },
    {
     "name": "stdout",
     "output_type": "stream",
     "text": [
      "\tgi|347530298|ref|NC_015977.1|_[Roseburia_hominis_A2_183_uid73419]_3528576-3534416 [126.789000]\n",
      "\tgi|242362080|ref|NZ_GG692718.1|_[Roseburia_intestinalis_L1_82_uid55267]_182162-193619 [431.070000]\n",
      "\tgi|479146200|ref|NC_021012.1|_[Roseburia_intestinalis_XB6B4_uid197179]_3117521-3133055 [128.886000]\n",
      "\tgi|479201824|ref|NC_021040.1|_[Roseburia_intestinalis_uid197164]_3372910-3379569 [48.299500]\n",
      "\tgi|332654740|ref|NZ_GL890787.1|_[Ruminococcaceae_bacterium_D16_uid52825]_46874-53620 [4.791770]\n",
      "\tgi|253580987|ref|NZ_GG696056.1|_[Ruminococcus_5_1_39BFAA_uid55629]_30268-36175 [361.091000]\n",
      "\tgi|484030447|ref|NZ_HE978651.1|_[Ruminococcus_JC304_uid199662]_683283-686676 [14.562900]\n",
      "\tgi|479150083|ref|NC_021013.1|_[Ruminococcus_bromii_uid197158]_1358881-1361380 [511.439000]\n",
      "\tgi|479199283|ref|NC_021039.1|_[Ruminococcus_champanellensis_18P13_uid197169]_2291513-2312728 [92.901200]\n",
      "\tgi|146386227|ref|NZ_AAYG02000011.1|_[Ruminococcus_gnavus_ATCC_29149_uid54537]_13617-29539 [30.820500]\n",
      "\tgi|225001203|ref|NZ_DS990194.1|_[Ruminococcus_lactaris_ATCC_29176_uid54903]_86082-88581 [167.452000]\n",
      "\tgi|211596884|ref|NZ_DS264338.1|_[Ruminococcus_obeum_ATCC_29174_uid54509]_404597-428897 [85.121100]\n",
      "\tgi|479176048|ref|NC_021022.1|_[Ruminococcus_obeum_uid197165]_597820-606412 [21.175900]\n",
      "\tgi|211596920|ref|NZ_DS264374.1|_[Ruminococcus_torques_ATCC_27756_uid54511]_6470-8969 [7.199250]\n",
      "\tgi|479155735|ref|NC_021015.1|_[Ruminococcus_torques_uid197166]_28760-40847 [139.049000]\n",
      "\tgi|337281488|ref|NC_015678.1|_[Streptococcus_parasanguinis_ATCC_15912_uid49313]_1171480-1181426 [14.767500]\n",
      "\tgi|322391124|ref|NZ_GL732449.1|_[Streptococcus_parasanguinis_ATCC_903_uid62541]_1156201-1171141 [12.923700]\n",
      "\tgi|312868192|ref|NZ_AEKM01000016.1|_[Streptococcus_parasanguinis_F0405_uid60563]_135042-140366 [5.661960]\n",
      "\tgi|419799698|ref|NZ_AJMV01000046.1|_[Streptococcus_parasanguinis_F0449_uid180419]_2470-14197 [6.765680]\n",
      "\tgi|340397867|ref|NC_015760.1|_[Streptococcus_salivarius_CCHSS3_uid70481]_1961612-1964846 [40.353800]\n",
      "\tgi|387783149|ref|NC_017595.1|_[Streptococcus_salivarius_JIM8777_uid162145]_1964077-1968359 [17.245200]\n",
      "\tgi|421452814|ref|NZ_ALIF01000006.1|_[Streptococcus_salivarius_K12_uid180858]_378708-382983 [10.815300]\n",
      "\tgi|418017472|ref|NZ_AGBV01000004.1|_[Streptococcus_salivarius_M18_uid179893]_1219113-1233612 [14.751700]\n",
      "\tgi|228476957|ref|NZ_ACLO01000062.1|_[Streptococcus_salivarius_SK126_uid55863]_341556-357632 [8.122630]\n",
      "\tgi|418026825|ref|NZ_AGFN01000170.1|_[Streptococcus_thermophilus_CNCM_I_1630_uid179896]_1-2287 [7.620630]\n",
      "\tgi|55821993|ref|NC_006449.1|_[Streptococcus_thermophilus_CNRZ1066_uid58221]_1563809-1567307 [15.827400]\n",
      "\tgi|323356407|ref|NZ_GL831112.1|_[Streptococcus_vestibularis_ATCC_49124_uid62665]_204205-232456 [13.655500]\n",
      "\tgi|312863002|ref|NZ_AEKO01000007.1|_[Streptococcus_vestibularis_F0396_uid60559]_48642-54832 [0.183129]\n",
      "\tgi|365137247|ref|NZ_JH414706.1|_[Subdoligranulum_4_3_54A2FAA_uid80415]_438432-457794 [100.910000]\n",
      "\tgi|260780703|ref|NZ_GG704769.1|_[Subdoligranulum_variabile_DSM_15176_uid54539]_652656-658843 [20.563700]\n",
      "\tgi|422348217|ref|NZ_JH815513.1|_[Sutterella_wadsworthensis_2_1_59BFAA_uid181408]_398300-410488 [57.216300]\n",
      "\tgi|320099632|ref|NZ_GL636544.1|_[Sutterella_wadsworthensis_3_1_45B_uid62165]_177616-180115 [125.623000]\n",
      "\tgi|365175860|ref|NZ_JH414697.1|_[Synergistes_3_1_syn1_uid80429]_1222153-1230022 [9.834790]\n",
      "\tgi|365123751|ref|NZ_JH414767.1|_[Tannerella_6_1_58FAA_CT1_uid80413]_281761-302969 [52.363000]\n",
      "\tgi|294794667|ref|NZ_GG770201.1|_[Veillonella_3_1_44_uid47845]_328902-331401 [24.264300]\n",
      "\tgi|294792904|ref|NZ_GG770217.1|_[Veillonella_6_1_27_uid47835]_138692-147091 [5.558940]\n",
      "\tgi|401680596|ref|NZ_ALKL01000021.1|_[Veillonella_ACP1_uid172974]_33504-48719 [11.576200]\n",
      "\tgi|303231516|ref|NZ_AEDR01000037.1|_[Veillonella_atypica_ACS_049_V_Sch6_uid51525]_1-2617 [8.421570]\n",
      "\tgi|237640064|ref|NZ_GG667605.1|_[Veillonella_dispar_ATCC_17748_uid55331]_415801-432096 [7.868040]\n",
      "\tgi|313893748|ref|NZ_AENU01000018.1|_[Veillonella_oral_taxon_158_F0412_uid61047]_117741-120240 [10.425400]\n",
      "\tgi|390630351|ref|NZ_CAGH01000013.1|_[Weissella_confusa_LBAE_C39_2_uid168254]_1-2500 [19.784600]\n",
      "\tgi|479181986|ref|NC_021024.1|_[butyrate_producing_bacterium_SM4_1_uid197180]_1988238-2003531 [1.601000]\n",
      "\tgi|479192860|ref|NC_021035.1|_[butyrate_producing_bacterium_SS3_4_uid197159]_907207-926798 [88.989900]\n",
      "\tgi|479158859|ref|NC_021016.1|_[butyrate_producing_bacterium_SSC_2_uid197181]_1851804-1857888 [0.003001]\n",
      "Get 284 seeds.\n",
      "\n",
      "Start EM process.\n",
      "Iteration 1\n",
      "Iteration 2\n",
      "Iteration 3\n",
      "Iteration 4\n",
      "Iteration 5\n",
      "Iteration 6\n",
      "Iteration 7\n",
      "Iteration 8\n",
      "Iteration 9\n",
      "Iteration 10\n",
      "Iteration 11\n",
      "Iteration 12\n",
      "Iteration 13\n",
      "Iteration 14\n",
      "Iteration 15\n",
      "Iteration 16\n",
      "Iteration 17\n",
      "Iteration 18\n",
      "Iteration 19\n",
      "Iteration 20\n",
      "Iteration 21\n",
      "Iteration 22\n",
      "Iteration 23\n",
      "Iteration 24\n",
      "Iteration 25\n",
      "Iteration 26\n",
      "Iteration 27\n",
      "Iteration 28\n",
      "Iteration 29\n",
      "Iteration 30\n",
      "Iteration 31\n",
      "Iteration 32\n",
      "Iteration 33\n",
      "Iteration 34\n",
      "Iteration 35\n",
      "Iteration 36\n",
      "Error encountered while running core MaxBin program. Error recorded in MaxBin.out.log.\n",
      "Program Stop.\n",
      "CPU times: user 5min 47s, sys: 1min 46s, total: 7min 34s\n",
      "Wall time: 7h 18min 52s\n"
     ]
    }
   ],
   "source": [
    "%%time\n",
    "!singularity run $SIMG run_MaxBin.pl -contig assembly.fa -out MaxBin.out -abund depth_maxbin.txt -thread 16\n"
   ]
  },
  {
   "cell_type": "code",
   "execution_count": 12,
   "id": "4e3076a8",
   "metadata": {},
   "outputs": [
    {
     "name": "stdout",
     "output_type": "stream",
     "text": [
      "head: cannot open ‘MaxBin.out’ for reading: No such file or directory\r\n"
     ]
    }
   ],
   "source": [
    "!head MaxBin.out"
   ]
  },
  {
   "cell_type": "code",
   "execution_count": 13,
   "id": "c50ee256",
   "metadata": {},
   "outputs": [
    {
     "name": "stdout",
     "output_type": "stream",
     "text": [
      "MaxBin.out.contig.tmp\t\t     MaxBin.out.log\r\n",
      "MaxBin.out.contig.tmp.abund1\t     MaxBin.out.log.tmp\r\n",
      "MaxBin.out.contig.tmp.frag.faa\t     MaxBin.out.seed\r\n",
      "MaxBin.out.contig.tmp.hmmout\t     MaxBin.out.tooshort\r\n",
      "MaxBin.out.contig.tmp.hmmout.FINISH\r\n"
     ]
    }
   ],
   "source": [
    "!ls MaxBin*"
   ]
  },
  {
   "cell_type": "code",
   "execution_count": null,
   "id": "5d39ff80",
   "metadata": {},
   "outputs": [],
   "source": []
  }
 ],
 "metadata": {
  "kernelspec": {
   "display_name": "Python 3",
   "language": "python",
   "name": "python3"
  },
  "language_info": {
   "codemirror_mode": {
    "name": "ipython",
    "version": 3
   },
   "file_extension": ".py",
   "mimetype": "text/x-python",
   "name": "python",
   "nbconvert_exporter": "python",
   "pygments_lexer": "ipython3",
   "version": "3.7.9"
  }
 },
 "nbformat": 4,
 "nbformat_minor": 5
}
