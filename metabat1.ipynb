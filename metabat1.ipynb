{
 "cells": [
  {
   "cell_type": "code",
   "execution_count": null,
   "id": "97c3956a",
   "metadata": {},
   "outputs": [],
   "source": []
  },
  {
   "cell_type": "code",
   "execution_count": 1,
   "id": "b4cb340d",
   "metadata": {},
   "outputs": [],
   "source": [
    "SIMG='~/let-it-bin.simg'"
   ]
  },
  {
   "cell_type": "code",
   "execution_count": 8,
   "id": "f59cacf5",
   "metadata": {},
   "outputs": [
    {
     "name": "stdout",
     "output_type": "stream",
     "text": [
      "/usr/local/bin/metabat1\r\n",
      "/usr/local/bin/jgi_summarize_bam_contig_depths\r\n"
     ]
    }
   ],
   "source": [
    "!singularity run $SIMG which metabat1 jgi_summarize_bam_contig_depths"
   ]
  },
  {
   "cell_type": "code",
   "execution_count": 24,
   "id": "36252cc1",
   "metadata": {},
   "outputs": [
    {
     "name": "stdout",
     "output_type": "stream",
     "text": [
      "/home/ec2-user/mydev/learn_binning\r\n"
     ]
    }
   ],
   "source": [
    "!singularity run  $SIMG pwd"
   ]
  },
  {
   "cell_type": "code",
   "execution_count": 16,
   "id": "0b38ec54",
   "metadata": {},
   "outputs": [
    {
     "name": "stdout",
     "output_type": "stream",
     "text": [
      "--2021-06-09 12:00:27--  https://portal.nersc.gov/dna/RD/Metagenome_RD/MetaBAT/Files/assembly.fa.gz\n",
      "Resolving portal.nersc.gov (portal.nersc.gov)... 128.55.206.112, 128.55.206.113, 128.55.206.106, ...\n",
      "Connecting to portal.nersc.gov (portal.nersc.gov)|128.55.206.112|:443... connected.\n",
      "HTTP request sent, awaiting response... 200 OK\n",
      "Length: 333803911 (318M) [application/x-gzip]\n",
      "Saving to: ‘assembly.fa.gz’\n",
      "\n",
      "100%[======================================>] 333,803,911 43.7MB/s   in 7.8s   \n",
      "\n",
      "2021-06-09 12:00:35 (41.0 MB/s) - ‘assembly.fa.gz’ saved [333803911/333803911]\n",
      "\n"
     ]
    }
   ],
   "source": [
    "!mkdir data && cd data && wget https://portal.nersc.gov/dna/RD/Metagenome_RD/MetaBAT/Files/assembly.fa.gz && gunzip assembly.fa.gz"
   ]
  },
  {
   "cell_type": "code",
   "execution_count": 18,
   "id": "31c1a9d5",
   "metadata": {},
   "outputs": [
    {
     "name": "stdout",
     "output_type": "stream",
     "text": [
      "    391202     391202 1171313088 data/assembly.fa\r\n"
     ]
    }
   ],
   "source": [
    "!wc  data/assembly.fa"
   ]
  },
  {
   "cell_type": "code",
   "execution_count": 22,
   "id": "ecf993e5",
   "metadata": {},
   "outputs": [
    {
     "name": "stdout",
     "output_type": "stream",
     "text": [
      ">gi|224815735|ref|NZ_ACGB01000001.1|_[Acidaminococcus_D21_uid55871]_1-5871\r\n",
      "TAAAGGTCATACTCCTTTTGTGATGCTTCCAAAACATGGTATGGTTCATGTTCCGCAAAGATATGGAGGTCACTGCCTTGGGCTGCAGGCGCCTCATAGC\r\n",
      ">gi|224815735|ref|NZ_ACGB01000001.1|_[Acidaminococcus_D21_uid55871]_5841-8340\r\n",
      "TCCTTTTTTATTACCAAGGTTAGGTTCTGTTTTTTGGGAGTGAAACCCCTTAAACGATTGCTGGCAGTATAATTTCAGGAGTATACTATGCCTGAGAGAC\r\n",
      ">gi|224815735|ref|NZ_ACGB01000001.1|_[Acidaminococcus_D21_uid55871]_8310-10809\r\n",
      "ATATAAGGTTAGACAAACAAATCGGAAGTTGTATGGAGGAGAAAAATATGAAACATCAGTGCAAAATAACGGTTTTGGAAACTAAGGTATTTCCGGATTT\r\n",
      ">gi|224815735|ref|NZ_ACGB01000001.1|_[Acidaminococcus_D21_uid55871]_10779-29944\r\n",
      "CATCCAAGATATCATCAAGGGATTTATAGGCCATAGGAGCTTCGTCGATGGTGCCTTCGTTTACCGATGTCGTATATATGCCTGCCATCTCCTGCTGGTA\r\n",
      ">gi|224815735|ref|NZ_ACGB01000001.1|_[Acidaminococcus_D21_uid55871]_29914-33073\r\n",
      "GTAGCCGAGATATCATCGGCAATGAAATTGCAGGTGACGGACAGGTCGGGAATAGTCCCGGCCGGAATAGAAAAGTCATTGATGGTCTGGCGGATGGCGT\r\n"
     ]
    }
   ],
   "source": [
    "! head data/assembly.fa | cut -c -100"
   ]
  },
  {
   "cell_type": "code",
   "execution_count": 27,
   "id": "249a44d1",
   "metadata": {},
   "outputs": [],
   "source": [
    "import os\n",
    "os.chdir(\"data\")"
   ]
  },
  {
   "cell_type": "code",
   "execution_count": 28,
   "id": "603ffc96",
   "metadata": {
    "scrolled": true
   },
   "outputs": [
    {
     "name": "stdout",
     "output_type": "stream",
     "text": [
      "--2021-06-09 12:06:10--  https://portal.nersc.gov/dna/RD/Metagenome_RD/MetaBAT/Files/depth.txt.gz\n",
      "gzip: depth.txt.gz: No such file or directory\n",
      "Resolving portal.nersc.gov (portal.nersc.gov)... 128.55.206.112, 128.55.206.113, 128.55.206.106, ...\n",
      "Connecting to portal.nersc.gov (portal.nersc.gov)|128.55.206.112|:443... connected.\n",
      "HTTP request sent, awaiting response... 200 OK\n",
      "Length: 142739748 (136M) [application/x-gzip]\n",
      "Saving to: ‘depth.txt.gz’\n",
      "\n",
      "100%[======================================>] 142,739,748 40.3MB/s   in 3.6s   \n",
      "\n",
      "2021-06-09 12:06:14 (38.1 MB/s) - ‘depth.txt.gz’ saved [142739748/142739748]\n",
      "\n"
     ]
    }
   ],
   "source": [
    "!wget https://portal.nersc.gov/dna/RD/Metagenome_RD/MetaBAT/Files/depth.txt.gz && gunzip depth.txt.gz"
   ]
  },
  {
   "cell_type": "code",
   "execution_count": 31,
   "id": "1f246a32",
   "metadata": {},
   "outputs": [
    {
     "name": "stdout",
     "output_type": "stream",
     "text": [
      "   192141 102026871 482024783 depth.txt\r\n"
     ]
    }
   ],
   "source": [
    "!wc depth.txt"
   ]
  },
  {
   "cell_type": "code",
   "execution_count": 34,
   "id": "3fb0ad70",
   "metadata": {
    "scrolled": true
   },
   "outputs": [
    {
     "name": "stdout",
     "output_type": "stream",
     "text": [
      "contigName\tcontigLen\ttotalAvgDepth\tall_291-shred_2500_31_rand_94521.fa-ERR011087.fastq.fix.fastq.sam.bam\tall_291-shred_2500_31_rand_94521.fa-ERR011087.fastq.fix.fastq.sam.bam-var\tall_291-shred_2500_31\r\n",
      "gi|224815735|ref|NZ_ACGB01000001.1|_[Acidaminococcus_D21_uid55871]_1-5871\t5871\t97.1261\t0\t0\t0\t0\t0\t0\t0\t0\t0\t0\t0\t0\t0\t0\t0\t0\t0\t0\t0\t0\t0\t0\t0\t0\t0\t0\t0\t0\t0\t0\t0\t0\t0\t0\t0\t0\t0\t0\t0\t0\t0\t0\t0\t0\t0\t0\t0\t0\t0\t0\t0\t0\t0\t0\t0\t0\t0\r\n"
     ]
    }
   ],
   "source": [
    "!head -n 2 depth.txt | cut -c -200"
   ]
  },
  {
   "cell_type": "code",
   "execution_count": 35,
   "id": "d6c6c7eb",
   "metadata": {},
   "outputs": [
    {
     "name": "stdout",
     "output_type": "stream",
     "text": [
      "MetaBAT (v0.32.5) using p1 90.0%, p2 90.0%, p3 95.0%, minProb 80.0%, minBinned 40%, minCV 1.0, minContig 2500, minContigByCorr 1000, minCorr 92%, paired 0, and 20 bootstrapping\n",
      "[00:00:04] Finished reading 195601 contigs. Number of target contigs >= 2500 are 189618, and [1000 and 2500) are 2522 \n",
      "[00:00:50] Finished reading 192140 contigs (using 159149 including 1884 short contigs) and 264 coverages from depth.txt\n",
      "[00:01:25] Saving TNF file to saved.tnf                                    \n",
      "[00:01:25] Finished TNF calculation.                                  \n",
      "[00:20:16] Saving probability graph to saved.gprob                                                     \n",
      "[00:20:25] Finished building a probabilistic graph. (159149 vertices and 13083048 edges)          \n",
      "[00:35:46] Bootstrapping 20/20 [5.0Gb / 62.9Gb]             \n",
      "[00:35:46] Saved bootstrap intermediate file (boot.5054748443232194446) for reuse in case of failure\n",
      "[00:36:41] Finished Ensemble Graph (159149 vertices and 106679565 edges) [7.7Gb / 62.9Gb]                          \n",
      "[00:36:41] Starting Ensemble Binning [7.7Gb / 62.9Gb]\n",
      "[00:37:07] Running Ensemble Binning 7 [7.2Gb / 62.9Gb]\n",
      "[00:37:07] Finished Ensemble Binning [7.2Gb / 62.9Gb]\n",
      "[00:37:07] Cleaned up intermediate files\n",
      "[00:37:07] 71.79% (828522637 out of 1154063908 bases) was binned.\n",
      "Number of clusters formed: 254\n",
      "CPU times: user 37.7 s, sys: 4.42 s, total: 42.2 s\n",
      "Wall time: 37min 8s\n"
     ]
    }
   ],
   "source": [
    "%%time\n",
    "#First, try sensitive mode to better sensitivity\n",
    "!singularity run $SIMG metabat1 -i assembly.fa -a depth.txt -o bin1 --sensitive -l -v --saveTNF saved.tnf --saveDistance saved.gprob\n"
   ]
  },
  {
   "cell_type": "code",
   "execution_count": 36,
   "id": "4e3076a8",
   "metadata": {},
   "outputs": [
    {
     "name": "stdout",
     "output_type": "stream",
     "text": [
      "gi|479192860|ref|NC_021035.1|_[butyrate_producing_bacterium_SS3_4_uid197159]_2671190-2673689\r\n",
      "gi|365123751|ref|NZ_JH414767.1|_[Tannerella_6_1_58FAA_CT1_uid80413]_480022-487548\r\n",
      "gi|365123562|ref|NZ_JH414766.1|_[Tannerella_6_1_58FAA_CT1_uid80413]_206267-208766\r\n",
      "gi|260780704|ref|NZ_GG704770.1|_[Subdoligranulum_variabile_DSM_15176_uid54539]_54590-58787\r\n",
      "gi|260780703|ref|NZ_GG704769.1|_[Subdoligranulum_variabile_DSM_15176_uid54539]_1426900-1429399\r\n",
      "gi|211596911|ref|NZ_DS264365.1|_[Ruminococcus_torques_ATCC_27756_uid54511]_1-4829\r\n",
      "gi|211596891|ref|NZ_DS264345.1|_[Ruminococcus_torques_ATCC_27756_uid54511]_197570-204034\r\n",
      "gi|479199283|ref|NC_021039.1|_[Ruminococcus_champanellensis_18P13_uid197169]_1318650-1321149\r\n",
      "gi|479199283|ref|NC_021039.1|_[Ruminococcus_champanellensis_18P13_uid197169]_737485-744100\r\n",
      "gi|479199283|ref|NC_021039.1|_[Ruminococcus_champanellensis_18P13_uid197169]_731381-737515\r\n"
     ]
    }
   ],
   "source": [
    "!head bin1.1"
   ]
  },
  {
   "cell_type": "code",
   "execution_count": 37,
   "id": "7f565a37",
   "metadata": {},
   "outputs": [
    {
     "name": "stdout",
     "output_type": "stream",
     "text": [
      "MetaBAT (v0.32.5) using p1 90.0%, p2 90.0%, p3 95.0%, minProb 80.0%, minBinned 40%, minCV 1.0, minContig 2500, minContigByCorr 1000, minCorr 96%, paired 0, and 20 bootstrapping\n",
      "[00:00:04] Finished reading 195601 contigs. Number of target contigs >= 2500 are 189618, and [1000 and 2500) are 2522 \n",
      "[00:00:50] Finished reading 192140 contigs (using 159149 including 1884 short contigs) and 264 coverages from depth.txt\n",
      "[00:00:51] Loading saved TNF from saved.tnf\n",
      "[00:00:51] Finished TNF calculation.                                  \n",
      "[00:00:51] Loading saved graph from saved.gprob\n",
      "[00:00:54] Finished building a probabilistic graph. (159149 vertices and 13083048 edges)          \n",
      "[00:16:50] Bootstrapping 20/20 [5.0Gb / 62.9Gb]             \n",
      "[00:16:50] Saved bootstrap intermediate file (boot.5657908260765426367) for reuse in case of failure\n",
      "[00:17:46] Finished Ensemble Graph (159149 vertices and 106207729 edges) [6.6Gb / 62.9Gb]                          \n",
      "[00:17:46] Starting Ensemble Binning [6.6Gb / 62.9Gb]\n",
      "[00:18:07] Running Ensemble Binning 5 [6.6Gb / 62.9Gb]\n",
      "[00:18:07] Finished Ensemble Binning [6.6Gb / 62.9Gb]\n",
      "[00:18:07] Cleaned up intermediate files\n",
      "[00:18:08] 71.37% (823634714 out of 1154063908 bases) was binned.\n",
      "Number of clusters formed: 260\n",
      "CPU times: user 16.2 s, sys: 2.04 s, total: 18.2 s\n",
      "Wall time: 18min 8s\n"
     ]
    }
   ],
   "source": [
    "%%time\n",
    "#Try specific mode to improve specificity further; this time the binning will be much faster since it reuses saved calculations\n",
    "!singularity run $SIMG metabat1 -i assembly.fa -a depth.txt -o bin2 --specific -l -v --saveTNF saved.tnf --saveDistance saved.gprob"
   ]
  },
  {
   "cell_type": "code",
   "execution_count": 38,
   "id": "3b679bc1",
   "metadata": {},
   "outputs": [
    {
     "name": "stdout",
     "output_type": "stream",
     "text": [
      "--2021-06-09 13:18:45--  https://portal.nersc.gov/dna/RD/Metagenome_RD/MetaBAT/Files/paired.txt.gz\n",
      "Resolving portal.nersc.gov (portal.nersc.gov)... 128.55.206.110, 128.55.206.111, 128.55.206.112, ...\n",
      "Connecting to portal.nersc.gov (portal.nersc.gov)|128.55.206.110|:443... connected.\n",
      "HTTP request sent, awaiting response... 200 OK\n",
      "Length: 44296965 (42M) [application/x-gzip]\n",
      "Saving to: ‘paired.txt.gz’\n",
      "\n",
      "100%[======================================>] 44,296,965  26.7MB/s   in 1.6s   \n",
      "\n",
      "2021-06-09 13:18:47 (26.7 MB/s) - ‘paired.txt.gz’ saved [44296965/44296965]\n",
      "\n"
     ]
    }
   ],
   "source": [
    "!wget https://portal.nersc.gov/dna/RD/Metagenome_RD/MetaBAT/Files/paired.txt.gz && gunzip paired.txt.gz"
   ]
  },
  {
   "cell_type": "code",
   "execution_count": 40,
   "id": "a8d988a1",
   "metadata": {},
   "outputs": [
    {
     "name": "stdout",
     "output_type": "stream",
     "text": [
      "8831897 paired.txt\r\n",
      "contigIdx\tcontigIdxMate\tAvgCoverage\r\n",
      "0\t0\t86.1737\r\n",
      "0\t2\t0.050247\r\n",
      "0\t85\t0.0127747\r\n",
      "0\t93\t0.0127747\r\n",
      "0\t94\t0.0127747\r\n",
      "0\t106\t0.0126043\r\n",
      "0\t169\t0.0127747\r\n",
      "0\t170\t0.0127747\r\n",
      "0\t180\t0.0127747\r\n"
     ]
    }
   ],
   "source": [
    "!wc -l paired.txt && head paired.txt"
   ]
  },
  {
   "cell_type": "code",
   "execution_count": 41,
   "id": "78d2e9ef",
   "metadata": {},
   "outputs": [
    {
     "name": "stdout",
     "output_type": "stream",
     "text": [
      "MetaBAT (v0.32.5) using p1 90.0%, p2 90.0%, p3 95.0%, minProb 80.0%, minBinned 40%, minCV 1.0, minContig 2500, minContigByCorr 1000, minCorr 96%, paired 1, and 20 bootstrapping\n",
      "[00:00:04] Finished reading 195601 contigs. Number of target contigs >= 2500 are 189618, and [1000 and 2500) are 2522 \n",
      "[00:00:50] Finished reading 192140 contigs (using 159149 including 1884 short contigs) and 264 coverages from depth.txt\n",
      "[00:00:51] Loading saved TNF from saved.tnf\n",
      "[00:00:51] Finished TNF calculation.                                  \n",
      "[00:00:51] Loading saved graph from saved.gprob\n",
      "[00:00:54] Finished building a probabilistic graph. (159149 vertices and 13083048 edges)          \n",
      "[00:16:26] Bootstrapping 20/20 [5.3Gb / 62.9Gb]             \n",
      "[00:16:26] Saved bootstrap intermediate file (boot.8198069042413880277) for reuse in case of failure\n",
      "[00:17:14] Finished Ensemble Graph (159149 vertices and 78804692 edges) [7.2Gb / 62.9Gb]                          \n",
      "[00:17:14] Starting Ensemble Binning [7.2Gb / 62.9Gb]\n",
      "[00:17:29] Running Ensemble Binning 5 [7.2Gb / 62.9Gb]\n",
      "[00:17:29] Finished Ensemble Binning [7.2Gb / 62.9Gb]\n",
      "[00:17:29] Cleaned up intermediate files\n",
      "[00:17:29] 71.77% (828298950 out of 1154063908 bases) was binned.\n",
      "Number of clusters formed: 260\n",
      "CPU times: user 16.2 s, sys: 1.76 s, total: 18 s\n",
      "Wall time: 17min 30s\n"
     ]
    }
   ],
   "source": [
    "%%time\n",
    "#Try specific mode with paired data to improve sensitivity while minimizing the loss of specificity\n",
    "!singularity run $SIMG metabat1 -i assembly.fa -a depth.txt -p paired.txt -o bin3 --specific -l -v --saveTNF saved.tnf --saveDistance saved.gprob\n"
   ]
  },
  {
   "cell_type": "code",
   "execution_count": 42,
   "id": "d67e3a90",
   "metadata": {},
   "outputs": [
    {
     "name": "stdout",
     "output_type": "stream",
     "text": [
      "MetaBAT (v0.32.5) using p1 90.0%, p2 90.0%, p3 95.0%, minProb 80.0%, minBinned 40%, minCV 1.0, minContig 2500, minContigByCorr 1000, minCorr 92%, paired 0, and 20 bootstrapping\n",
      "[00:00:04] Finished reading 195601 contigs. Number of target contigs >= 2500 are 189618, and [1000 and 2500) are 2522 \n",
      "[00:00:50] Finished reading 192140 contigs (using 159149 including 1884 short contigs) and 264 coverages from depth.txt\n",
      "[00:00:51] Loading saved TNF from saved.tnf\n",
      "[00:00:51] Finished TNF calculation.                                  \n",
      "[00:00:51] Loading saved graph from saved.gprob\n",
      "[00:00:54] Finished building a probabilistic graph. (159149 vertices and 13083048 edges)          \n",
      "[00:16:31] Bootstrapping 20/20 [5.0Gb / 62.9Gb]             \n",
      "[00:16:31] Saved bootstrap intermediate file (boot.5054748443232194446) for reuse in case of failure\n",
      "[00:17:23] Finished Ensemble Graph (159149 vertices and 85040665 edges) [6.1Gb / 62.9Gb]                          \n",
      "[00:17:23] Starting Ensemble Binning [6.1Gb / 62.9Gb]\n",
      "[00:17:44] Running Ensemble Binning 7 [6.1Gb / 62.9Gb]\n",
      "[00:17:44] Finished Ensemble Binning [6.1Gb / 62.9Gb]\n",
      "[00:17:44] Cleaned up intermediate files\n",
      "[00:17:44] 71.87% (829449643 out of 1154063908 bases) was binned.\n",
      "Number of clusters formed: 263\n",
      "CPU times: user 15.9 s, sys: 1.91 s, total: 17.8 s\n",
      "Wall time: 17min 45s\n"
     ]
    }
   ],
   "source": [
    "%%time\n",
    "\n",
    "#recommended to use B >= 20\n",
    "#use --seed for reproducibility\n",
    "!singularity run $SIMG metabat1 -i assembly.fa -a depth.txt -o bin4 --sensitive -l -v --saveTNF saved.tnf --saveDistance saved.gprob -B 20"
   ]
  },
  {
   "cell_type": "code",
   "execution_count": null,
   "id": "c50ee256",
   "metadata": {},
   "outputs": [],
   "source": []
  }
 ],
 "metadata": {
  "kernelspec": {
   "display_name": "Python 3",
   "language": "python",
   "name": "python3"
  },
  "language_info": {
   "codemirror_mode": {
    "name": "ipython",
    "version": 3
   },
   "file_extension": ".py",
   "mimetype": "text/x-python",
   "name": "python",
   "nbconvert_exporter": "python",
   "pygments_lexer": "ipython3",
   "version": "3.7.9"
  }
 },
 "nbformat": 4,
 "nbformat_minor": 5
}
