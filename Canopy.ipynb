{
 "cells": [
  {
   "cell_type": "code",
   "execution_count": null,
   "id": "97c3956a",
   "metadata": {},
   "outputs": [],
   "source": []
  },
  {
   "cell_type": "code",
   "execution_count": 1,
   "id": "b4cb340d",
   "metadata": {},
   "outputs": [],
   "source": [
    "SIMG='~/let-it-bin.simg'"
   ]
  },
  {
   "cell_type": "code",
   "execution_count": 2,
   "id": "f59cacf5",
   "metadata": {
    "scrolled": true
   },
   "outputs": [
    {
     "name": "stdout",
     "output_type": "stream",
     "text": [
      "/usr/local/bin/cc.bin\r\n"
     ]
    }
   ],
   "source": [
    "!singularity run $SIMG which cc.bin"
   ]
  },
  {
   "cell_type": "code",
   "execution_count": 3,
   "id": "116a1da5",
   "metadata": {},
   "outputs": [],
   "source": [
    "import os\n",
    "os.chdir(\"data\")"
   ]
  },
  {
   "cell_type": "code",
   "execution_count": 4,
   "id": "36252cc1",
   "metadata": {},
   "outputs": [
    {
     "name": "stdout",
     "output_type": "stream",
     "text": [
      "/home/ec2-user/mydev/learn_binning/data\r\n"
     ]
    }
   ],
   "source": [
    "!singularity run  $SIMG pwd"
   ]
  },
  {
   "cell_type": "code",
   "execution_count": 5,
   "id": "0b38ec54",
   "metadata": {},
   "outputs": [],
   "source": [
    "#!mkdir data && cd data && wget https://portal.nersc.gov/dna/RD/Metagenome_RD/MetaBAT/Files/assembly.fa.gz && gunzip assembly.fa.gz"
   ]
  },
  {
   "cell_type": "code",
   "execution_count": 6,
   "id": "31c1a9d5",
   "metadata": {},
   "outputs": [
    {
     "name": "stdout",
     "output_type": "stream",
     "text": [
      "wc: data/assembly.fa: No such file or directory\r\n"
     ]
    }
   ],
   "source": [
    "!wc   data/assembly.fa"
   ]
  },
  {
   "cell_type": "code",
   "execution_count": 7,
   "id": "ecf993e5",
   "metadata": {},
   "outputs": [
    {
     "name": "stdout",
     "output_type": "stream",
     "text": [
      "head: cannot open ‘data/assembly.fa’ for reading: No such file or directory\r\n"
     ]
    }
   ],
   "source": [
    "! head data/assembly.fa | cut -c -100"
   ]
  },
  {
   "cell_type": "code",
   "execution_count": 8,
   "id": "603ffc96",
   "metadata": {
    "scrolled": true
   },
   "outputs": [
    {
     "name": "stdout",
     "output_type": "stream",
     "text": [
      "--2021-06-10 11:04:38--  https://portal.nersc.gov/dna/RD/Metagenome_RD/MetaBAT/Files/depth_concoct.txt.gz\n",
      "Resolving portal.nersc.gov (portal.nersc.gov)... 128.55.206.109, 128.55.206.110, 128.55.206.111, ...\n",
      "Connecting to portal.nersc.gov (portal.nersc.gov)|128.55.206.109|:443... connected.\n",
      "HTTP request sent, awaiting response... 200 OK\n",
      "Length: 71797776 (68M) [application/x-gzip]\n",
      "Saving to: ‘depth_concoct.txt.gz’\n",
      "\n",
      "100%[======================================>] 71,797,776  33.5MB/s   in 2.0s   \n",
      "\n",
      "2021-06-10 11:04:41 (33.5 MB/s) - ‘depth_concoct.txt.gz’ saved [71797776/71797776]\n",
      "\n"
     ]
    }
   ],
   "source": [
    "!wget https://portal.nersc.gov/dna/RD/Metagenome_RD/MetaBAT/Files/depth_concoct.txt.gz && gunzip depth_concoct.txt.gz"
   ]
  },
  {
   "cell_type": "code",
   "execution_count": 9,
   "id": "1f246a32",
   "metadata": {},
   "outputs": [
    {
     "name": "stdout",
     "output_type": "stream",
     "text": [
      "   195601  51834265 251757984 depth_concoct.txt\r\n"
     ]
    }
   ],
   "source": [
    "!wc depth_concoct.txt"
   ]
  },
  {
   "cell_type": "code",
   "execution_count": 10,
   "id": "3fb0ad70",
   "metadata": {
    "scrolled": true
   },
   "outputs": [
    {
     "name": "stdout",
     "output_type": "stream",
     "text": [
      "gi|224815735|ref|NZ_ACGB01000001.1|_[Acidaminococcus_D21_uid55871]_1-5871\t0\t0\t0\t0\t0\t0\t0\t0\t0\t0\t0\t0\t0\t0\t0\t0\t0\t0\t0\t0\t0\t0\t0\t0\t0\t0\t0\t0\t0\t0\t0\t0\t0\t0\t0.0260353\t0\t0\t0\t0\t0\t0\t0\t0\t0\t0\t0\t0\t0\t0\t0.531374\t0.447018\t0\t\r\n",
      "gi|224815735|ref|NZ_ACGB01000001.1|_[Acidaminococcus_D21_uid55871]_5841-8340\t0\t0\t0\t0\t0\t0\t0\t0\t0\t0\t0\t0\t0\t0\t0\t0\t0\t0\t0\t0\t0\t0\t0\t0\t0\t0\t0\t0\t0\t0\t0\t0\t0\t0\t0\t0\t0\t0\t0\t0\t0\t0\t0\t0\t0\t0\t0\t0\t0\t0.545568\t0.871168\t0\t0\t0\t0\r\n"
     ]
    }
   ],
   "source": [
    "!head -n 2 depth_concoct.txt | cut -c -200"
   ]
  },
  {
   "cell_type": "code",
   "execution_count": 25,
   "id": "d6c6c7eb",
   "metadata": {},
   "outputs": [
    {
     "name": "stdout",
     "output_type": "stream",
     "text": [
      "\n",
      "Files:\n",
      "input_file_path:\t depth_concoct.txt\n",
      "output_cluster_profiles_file:\t prof_canopy\n",
      "progress_stat_file:\t canopy_progress.out\n",
      "not_processed_profiles_file:\t \n",
      "input_filter_file:\t \n",
      "\n",
      "\n",
      "General:\n",
      "num_threads:\t 16\n",
      "\n",
      "File loaded into memory, generating profiles\n",
      "Profiles read, dropping file from memory\n",
      "\n",
      "Running basic validation of profiles\n",
      "filter_max_top3_sample_contribution:\t 0.9\n",
      "filter_min_obs:\t 3\n",
      "\n",
      "Finished reading profiles input file\n",
      "Observed number of samples per profile: 264\n",
      "Number of profiles read: 195601\n",
      "Number of profiles filtered out due to three sample signal contribution filter: 23083\n",
      "Number of profiles filtered out due to non zero samples number filter: 15363\n",
      "Number of profiles filtered out: 23083\n",
      "Finished input profiles processing\n",
      "Number of profiles after filtering: 172518\n",
      "\n",
      "Algorithm Parameters:\n",
      "max_canopy_dist:\t 0.1\n",
      "max_close_dist:\t 0.6\n",
      "max_merge_dist:\t 0.1\n",
      "min_step_dist:\t 0.001\n",
      "max_num_canopy_walks:\t 6\n",
      "\n",
      "Early stopping:\n",
      "stop_after_num_seeds_processed:\t 50000\n",
      "\n",
      "############ Shuffling ############\n",
      "\n",
      "############ Creating Canopies ############\n",
      "To make the program stop and generate output send an interrupt signal by either:\n",
      "\t * running command \"kill -INT [ cc.bin PID ]\"\n",
      "\t * pressing \"CTRL + C\" in this terminal\n",
      "\n",
      "\n",
      "Avg. number of canopy walks: 0.812014\n",
      "Number of all canopies before merging: 49993\n",
      "\n",
      "############Removing canopies of size 1 to speed-up merging#############\n",
      "\n",
      "Number of canopies which are removed due to having only 1 sample: 32259\n",
      "Number of canopies left after removal of single sample canpies: 17734\n",
      "\n",
      "############Merging canopies#############\n",
      "\n",
      "Number of canopies after merging: 3323\n",
      "Finished clustering\n",
      "Finished filtering for minimum number of sample detections, number of canopies:3323\n",
      "Finished filtering by three sample signal contribution proportion, number of canopies:3308\n",
      "Finished filtering by size(number of neighbours must be bigger than 1), number of canopies:3308\n",
      "\n",
      "####################Writing Results####################\n",
      "CPU times: user 15.4 s, sys: 1.58 s, total: 17 s\n",
      "Wall time: 11min 41s\n"
     ]
    }
   ],
   "source": [
    "%%time\n",
    "!singularity run $SIMG cc.bin -n 16 -i depth_concoct.txt -o bin_canopy -c prof_canopy --max_canopy_dist 0.1 --max_merge_dist 0.1  "
   ]
  },
  {
   "cell_type": "code",
   "execution_count": 26,
   "id": "4e3076a8",
   "metadata": {},
   "outputs": [
    {
     "name": "stdout",
     "output_type": "stream",
     "text": [
      "CAG0001\tgi|312968135|ref|NZ_ADUL01000073.1|_[Escherichia_coli_2362_75_uid60613]_87018-98274\r\n",
      "CAG0001\tgi|223958584|ref|NZ_DS999461.1|_[Escherichia_3_2_53FAA_uid55601]_81880-86644\r\n",
      "CAG0001\tgi|417660515|ref|NZ_AFET01000001.1|_[Escherichia_coli_AA86_uid179782]_1981331-1985379\r\n",
      "CAG0001\tgi|223958583|ref|NZ_DS999460.1|_[Escherichia_3_2_53FAA_uid55601]_661163-663662\r\n",
      "CAG0001\tgi|223958583|ref|NZ_DS999460.1|_[Escherichia_3_2_53FAA_uid55601]_541772-549590\r\n",
      "CAG0001\tgi|223958584|ref|NZ_DS999461.1|_[Escherichia_3_2_53FAA_uid55601]_520952-553437\r\n",
      "CAG0001\tgi|223958584|ref|NZ_DS999461.1|_[Escherichia_3_2_53FAA_uid55601]_553407-562658\r\n",
      "CAG0001\tgi|223958584|ref|NZ_DS999461.1|_[Escherichia_3_2_53FAA_uid55601]_562628-577605\r\n",
      "CAG0001\tgi|556550243|ref|NC_022648.1|_[Escherichia_coli_JJ1886_uid226103]_2632622-2635152\r\n",
      "CAG0001\tgi|312968762|ref|NZ_ADUL01000076.1|_[Escherichia_coli_2362_75_uid60613]_260347-262846\r\n"
     ]
    }
   ],
   "source": [
    "!head bin_canopy"
   ]
  },
  {
   "cell_type": "code",
   "execution_count": null,
   "id": "c50ee256",
   "metadata": {},
   "outputs": [],
   "source": []
  }
 ],
 "metadata": {
  "kernelspec": {
   "display_name": "Python 3",
   "language": "python",
   "name": "python3"
  },
  "language_info": {
   "codemirror_mode": {
    "name": "ipython",
    "version": 3
   },
   "file_extension": ".py",
   "mimetype": "text/x-python",
   "name": "python",
   "nbconvert_exporter": "python",
   "pygments_lexer": "ipython3",
   "version": "3.7.9"
  }
 },
 "nbformat": 4,
 "nbformat_minor": 5
}
