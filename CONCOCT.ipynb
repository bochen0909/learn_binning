{
 "cells": [
  {
   "cell_type": "code",
   "execution_count": null,
   "id": "97c3956a",
   "metadata": {},
   "outputs": [],
   "source": []
  },
  {
   "cell_type": "code",
   "execution_count": 1,
   "id": "b4cb340d",
   "metadata": {},
   "outputs": [],
   "source": [
    "SIMG='~/let-it-bin.simg'"
   ]
  },
  {
   "cell_type": "code",
   "execution_count": 2,
   "id": "f59cacf5",
   "metadata": {
    "scrolled": true
   },
   "outputs": [
    {
     "name": "stdout",
     "output_type": "stream",
     "text": [
      "/usr/local/bin/concoct\r\n"
     ]
    }
   ],
   "source": [
    "!singularity run $SIMG which concoct"
   ]
  },
  {
   "cell_type": "code",
   "execution_count": 3,
   "id": "116a1da5",
   "metadata": {},
   "outputs": [],
   "source": [
    "import os\n",
    "os.chdir(\"data\")"
   ]
  },
  {
   "cell_type": "code",
   "execution_count": 4,
   "id": "36252cc1",
   "metadata": {},
   "outputs": [
    {
     "name": "stdout",
     "output_type": "stream",
     "text": [
      "/home/ec2-user/mydev/learn_binning/data\r\n"
     ]
    }
   ],
   "source": [
    "!singularity run  $SIMG pwd"
   ]
  },
  {
   "cell_type": "code",
   "execution_count": 5,
   "id": "0b38ec54",
   "metadata": {},
   "outputs": [],
   "source": [
    "#!mkdir data && cd data && wget https://portal.nersc.gov/dna/RD/Metagenome_RD/MetaBAT/Files/assembly.fa.gz && gunzip assembly.fa.gz"
   ]
  },
  {
   "cell_type": "code",
   "execution_count": 6,
   "id": "31c1a9d5",
   "metadata": {},
   "outputs": [
    {
     "name": "stdout",
     "output_type": "stream",
     "text": [
      "    391202     391202 1171313088 assembly.fa\r\n"
     ]
    }
   ],
   "source": [
    "!wc   assembly.fa"
   ]
  },
  {
   "cell_type": "code",
   "execution_count": 7,
   "id": "ecf993e5",
   "metadata": {},
   "outputs": [
    {
     "name": "stdout",
     "output_type": "stream",
     "text": [
      ">gi|224815735|ref|NZ_ACGB01000001.1|_[Acidaminococcus_D21_uid55871]_1-5871\r\n",
      "TAAAGGTCATACTCCTTTTGTGATGCTTCCAAAACATGGTATGGTTCATGTTCCGCAAAGATATGGAGGTCACTGCCTTGGGCTGCAGGCGCCTCATAGC\r\n",
      ">gi|224815735|ref|NZ_ACGB01000001.1|_[Acidaminococcus_D21_uid55871]_5841-8340\r\n",
      "TCCTTTTTTATTACCAAGGTTAGGTTCTGTTTTTTGGGAGTGAAACCCCTTAAACGATTGCTGGCAGTATAATTTCAGGAGTATACTATGCCTGAGAGAC\r\n",
      ">gi|224815735|ref|NZ_ACGB01000001.1|_[Acidaminococcus_D21_uid55871]_8310-10809\r\n",
      "ATATAAGGTTAGACAAACAAATCGGAAGTTGTATGGAGGAGAAAAATATGAAACATCAGTGCAAAATAACGGTTTTGGAAACTAAGGTATTTCCGGATTT\r\n",
      ">gi|224815735|ref|NZ_ACGB01000001.1|_[Acidaminococcus_D21_uid55871]_10779-29944\r\n",
      "CATCCAAGATATCATCAAGGGATTTATAGGCCATAGGAGCTTCGTCGATGGTGCCTTCGTTTACCGATGTCGTATATATGCCTGCCATCTCCTGCTGGTA\r\n",
      ">gi|224815735|ref|NZ_ACGB01000001.1|_[Acidaminococcus_D21_uid55871]_29914-33073\r\n",
      "GTAGCCGAGATATCATCGGCAATGAAATTGCAGGTGACGGACAGGTCGGGAATAGTCCCGGCCGGAATAGAAAAGTCATTGATGGTCTGGCGGATGGCGT\r\n"
     ]
    }
   ],
   "source": [
    "! head assembly.fa | cut -c -100"
   ]
  },
  {
   "cell_type": "code",
   "execution_count": 8,
   "id": "603ffc96",
   "metadata": {
    "scrolled": true
   },
   "outputs": [
    {
     "name": "stdout",
     "output_type": "stream",
     "text": [
      "--2021-06-10 11:04:38--  https://portal.nersc.gov/dna/RD/Metagenome_RD/MetaBAT/Files/depth_concoct.txt.gz\n",
      "Resolving portal.nersc.gov (portal.nersc.gov)... 128.55.206.109, 128.55.206.110, 128.55.206.111, ...\n",
      "Connecting to portal.nersc.gov (portal.nersc.gov)|128.55.206.109|:443... connected.\n",
      "HTTP request sent, awaiting response... 200 OK\n",
      "Length: 71797776 (68M) [application/x-gzip]\n",
      "Saving to: ‘depth_concoct.txt.gz’\n",
      "\n",
      "100%[======================================>] 71,797,776  33.5MB/s   in 2.0s   \n",
      "\n",
      "2021-06-10 11:04:41 (33.5 MB/s) - ‘depth_concoct.txt.gz’ saved [71797776/71797776]\n",
      "\n"
     ]
    }
   ],
   "source": [
    "!wget https://portal.nersc.gov/dna/RD/Metagenome_RD/MetaBAT/Files/depth_concoct.txt.gz && gunzip depth_concoct.txt.gz"
   ]
  },
  {
   "cell_type": "code",
   "execution_count": 11,
   "id": "1f246a32",
   "metadata": {},
   "outputs": [
    {
     "name": "stdout",
     "output_type": "stream",
     "text": [
      "   195601  51834265 251757984 depth_concoct.txt\r\n"
     ]
    }
   ],
   "source": [
    "!wc depth_concoct.txt"
   ]
  },
  {
   "cell_type": "code",
   "execution_count": 12,
   "id": "3fb0ad70",
   "metadata": {
    "scrolled": true
   },
   "outputs": [
    {
     "name": "stdout",
     "output_type": "stream",
     "text": [
      "gi|224815735|ref|NZ_ACGB01000001.1|_[Acidaminococcus_D21_uid55871]_1-5871\t0\t0\t0\t0\t0\t0\t0\t0\t0\t0\t0\t0\t0\t0\t0\t0\t0\t0\t0\t0\t0\t0\t0\t0\t0\t0\t0\t0\t0\t0\t0\t0\t0\t0\t0.0260353\t0\t0\t0\t0\t0\t0\t0\t0\t0\t0\t0\t0\t0\t0\t0.531374\t0.447018\t0\t\r\n",
      "gi|224815735|ref|NZ_ACGB01000001.1|_[Acidaminococcus_D21_uid55871]_5841-8340\t0\t0\t0\t0\t0\t0\t0\t0\t0\t0\t0\t0\t0\t0\t0\t0\t0\t0\t0\t0\t0\t0\t0\t0\t0\t0\t0\t0\t0\t0\t0\t0\t0\t0\t0\t0\t0\t0\t0\t0\t0\t0\t0\t0\t0\t0\t0\t0\t0\t0.545568\t0.871168\t0\t0\t0\t0\r\n"
     ]
    }
   ],
   "source": [
    "!head -n 2 depth_concoct.txt | cut -c -200"
   ]
  },
  {
   "cell_type": "code",
   "execution_count": 14,
   "id": "b17637f0",
   "metadata": {},
   "outputs": [
    {
     "name": "stdout",
     "output_type": "stream",
     "text": [
      "0.20.0\r\n"
     ]
    }
   ],
   "source": [
    "!singularity run $SIMG python -c 'import sklearn; print sklearn.__version__'"
   ]
  },
  {
   "cell_type": "code",
   "execution_count": 13,
   "id": "d6c6c7eb",
   "metadata": {},
   "outputs": [
    {
     "name": "stdout",
     "output_type": "stream",
     "text": [
      "Traceback (most recent call last):\n",
      "  File \"/usr/local/bin/concoct\", line 4, in <module>\n",
      "    __import__('pkg_resources').run_script('concoct==0.4.0', 'concoct')\n",
      "  File \"/usr/lib/python2.7/dist-packages/pkg_resources/__init__.py\", line 719, in run_script\n",
      "    self.require(requires)[0].run_script(script_name, ns)\n",
      "  File \"/usr/lib/python2.7/dist-packages/pkg_resources/__init__.py\", line 1504, in run_script\n",
      "    exec(code, namespace, namespace)\n",
      "  File \"/usr/local/lib/python2.7/dist-packages/concoct-0.4.0-py2.7-linux-x86_64.egg/EGG-INFO/scripts/concoct\", line 10, in <module>\n",
      "    from concoct.cluster import cluster\n",
      "  File \"/usr/local/lib/python2.7/dist-packages/concoct-0.4.0-py2.7-linux-x86_64.egg/concoct/cluster.py\", line 4, in <module>\n",
      "    from sklearn.mixture import GMM\n",
      "ImportError: cannot import name GMM\n",
      "CPU times: user 54.3 ms, sys: 25 ms, total: 79.3 ms\n",
      "Wall time: 4.07 s\n"
     ]
    }
   ],
   "source": [
    "%%time\n",
    "!singularity run $SIMG concoct --composition_file assembly.fa --coverage_file depth_concoct.txt"
   ]
  },
  {
   "cell_type": "code",
   "execution_count": null,
   "id": "c50ee256",
   "metadata": {},
   "outputs": [],
   "source": []
  }
 ],
 "metadata": {
  "kernelspec": {
   "display_name": "Python 3",
   "language": "python",
   "name": "python3"
  },
  "language_info": {
   "codemirror_mode": {
    "name": "ipython",
    "version": 3
   },
   "file_extension": ".py",
   "mimetype": "text/x-python",
   "name": "python",
   "nbconvert_exporter": "python",
   "pygments_lexer": "ipython3",
   "version": "3.7.9"
  }
 },
 "nbformat": 4,
 "nbformat_minor": 5
}
